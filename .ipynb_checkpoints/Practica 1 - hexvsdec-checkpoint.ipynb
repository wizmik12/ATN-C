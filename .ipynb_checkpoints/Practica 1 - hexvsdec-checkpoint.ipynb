{
 "cells": [
  {
   "cell_type": "markdown",
   "metadata": {},
   "source": [
    "# Hexadecimal vs Decimal"
   ]
  },
  {
   "cell_type": "markdown",
   "metadata": {},
   "source": [
    "El sistema de símbolos para hexadecimal es\n",
    "\n",
    "   $$ S = \\{0, 1, 2, 3, 4, 5, 6, 7, 8, 9,a,b,c,d,f\\}\\,$$\n",
    "\n",
    "con la correspondencia $a = 10,\\, b = 11,\\, c = 12,\\, d = 13,\\, e = 14\\,$ y $f = 15$.\n",
    "\n",
    "Un número en hexadecimal sería una cadena (string) como $34f2a$ que corresponde a número en binario\n",
    "$16^4*3+16^3*4+16^2*15+16*2+10$\n"
   ]
  },
  {
   "cell_type": "markdown",
   "metadata": {},
   "source": [
    "## Cadenas (strings)\n",
    "\n",
    "Para introducir una cadena o string utilizamos comillas."
   ]
  },
  {
   "cell_type": "code",
   "execution_count": null,
   "metadata": {
    "collapsed": true
   },
   "outputs": [],
   "source": [
    "ej1='123ab'"
   ]
  },
  {
   "cell_type": "code",
   "execution_count": null,
   "metadata": {
    "collapsed": true
   },
   "outputs": [],
   "source": [
    "ej2=\"fg145\""
   ]
  },
  {
   "cell_type": "markdown",
   "metadata": {},
   "source": [
    "Podemos preguntar que tipo de dato es ej1 o ej2"
   ]
  },
  {
   "cell_type": "code",
   "execution_count": null,
   "metadata": {},
   "outputs": [],
   "source": [
    "type(ej1)"
   ]
  },
  {
   "cell_type": "code",
   "execution_count": null,
   "metadata": {},
   "outputs": [],
   "source": [
    "type(ej2)"
   ]
  },
  {
   "cell_type": "markdown",
   "metadata": {},
   "source": [
    "Podemos calcular la longitud de una cadena"
   ]
  },
  {
   "cell_type": "code",
   "execution_count": null,
   "metadata": {},
   "outputs": [],
   "source": [
    "len(ej1)"
   ]
  },
  {
   "cell_type": "markdown",
   "metadata": {},
   "source": [
    "El primer elemento de una cadena está en el lugar 0. Para recuperarlo podemos hacer"
   ]
  },
  {
   "cell_type": "code",
   "execution_count": null,
   "metadata": {},
   "outputs": [],
   "source": [
    "ej1[0]"
   ]
  },
  {
   "cell_type": "markdown",
   "metadata": {},
   "source": [
    "Observa que ej1[0] es una cadena no es el entero 1."
   ]
  },
  {
   "cell_type": "code",
   "execution_count": null,
   "metadata": {},
   "outputs": [],
   "source": [
    "type(ej1[0])"
   ]
  },
  {
   "cell_type": "markdown",
   "metadata": {},
   "source": [
    "Podemos recuperar el último elemento de dos formas"
   ]
  },
  {
   "cell_type": "code",
   "execution_count": null,
   "metadata": {},
   "outputs": [],
   "source": [
    "ej1[len(ej1)-1]"
   ]
  },
  {
   "cell_type": "code",
   "execution_count": null,
   "metadata": {},
   "outputs": [],
   "source": [
    "ej1[-1]"
   ]
  },
  {
   "cell_type": "markdown",
   "metadata": {},
   "source": [
    "Si el elemento i de la cadena es un entero, podemos recuperar dicho entero con el comando <span style=\"color:green\">int</span>"
   ]
  },
  {
   "cell_type": "code",
   "execution_count": null,
   "metadata": {},
   "outputs": [],
   "source": [
    "print int(ej1[0])"
   ]
  },
  {
   "cell_type": "markdown",
   "metadata": {},
   "source": [
    "**Ejercicio 1:** Vamos a suponer que la cadena corresponde a un número en hexadecimal. Define una función <span style=\"color:red\">elemento(hexastring,i)</span> con salida el entero que corresponde a hexastring[i]. Recuerda que a 'a' le corresponde el entero 10, a 'b' el 11 etc.  "
   ]
  },
  {
   "cell_type": "markdown",
   "metadata": {},
   "source": [
    "Una pequeña variación nos permite construir la cadena formada por los elementos en posiciones mayores o iguales a una determinada posición"
   ]
  },
  {
   "cell_type": "code",
   "execution_count": null,
   "metadata": {},
   "outputs": [],
   "source": [
    "print ej1\n",
    "print ej1[2:]"
   ]
  },
  {
   "cell_type": "markdown",
   "metadata": {},
   "source": [
    "El operador <span style=\"color:green\">+</span> permite concatenar listas"
   ]
  },
  {
   "cell_type": "code",
   "execution_count": null,
   "metadata": {},
   "outputs": [],
   "source": [
    "print ej1+ej2"
   ]
  },
  {
   "cell_type": "code",
   "execution_count": null,
   "metadata": {},
   "outputs": [],
   "source": [
    "def elemento(hexastring,i):\n",
    "    \n",
    "    if i<len(hexastring):\n",
    "        n=(hexastring[i])\n",
    "\n",
    "        if n=='1' or n=='2' or n=='3' or n=='4' or n=='5' or n=='6' or n=='7' or n=='8' or n=='9' or n=='0':\n",
    "            return n\n",
    "        elif n=='a':\n",
    "            return 10\n",
    "        elif n=='b':\n",
    "            return 11\n",
    "        elif n=='c':\n",
    "            return 12\n",
    "        elif n=='d':\n",
    "            return 13\n",
    "        elif n=='e':\n",
    "            return 14\n",
    "        elif n=='f':\n",
    "            return 15\n",
    "        \n",
    "        \n",
    "    else: print 'Elige una posición válida del string'"
   ]
  },
  {
   "cell_type": "code",
   "execution_count": null,
   "metadata": {},
   "outputs": [],
   "source": [
    "mensaje='132a4f'\n",
    "elemento(mensaje,9)"
   ]
  },
  {
   "cell_type": "markdown",
   "metadata": {},
   "source": [
    "##  De hexadecimal a decimal"
   ]
  },
  {
   "cell_type": "markdown",
   "metadata": {},
   "source": [
    "Vamos a transformar una cadena que corresponda u un número en hexadecimal en un entero (número en decimal).\n",
    "Lo vamos a hacer de dos formas: \n",
    "- De forma iterativa (usando <span style=\"color:green\">for</span>).\n",
    "- De forma recursiva."
   ]
  },
  {
   "cell_type": "markdown",
   "metadata": {},
   "source": [
    "Esta función ya la tiene Python, pero la vamos a reescribir como ejercicio."
   ]
  },
  {
   "cell_type": "code",
   "execution_count": null,
   "metadata": {},
   "outputs": [],
   "source": [
    "print int(ej1,16)"
   ]
  },
  {
   "cell_type": "markdown",
   "metadata": {},
   "source": [
    "**Ejercicio 2:** Define, de forma iterativa, la función <span style=\"color:red\">hextodec_it(hexastring)</span> que asocie a la cadena hexastring el entero correspondiente."
   ]
  },
  {
   "cell_type": "code",
   "execution_count": null,
   "metadata": {
    "collapsed": true
   },
   "outputs": [],
   "source": [
    "def hextodec_it(hexastring):\n",
    "    n=0\n",
    "    for i in range(0,len(hexastring)):\n",
    "        n=n+int(elemento(hexastring,i))*(16**(len(hexastring)-i-1))\n",
    "       \n",
    "    return n"
   ]
  },
  {
   "cell_type": "code",
   "execution_count": null,
   "metadata": {},
   "outputs": [],
   "source": [
    "hextodec_it(ej1)"
   ]
  },
  {
   "cell_type": "markdown",
   "metadata": {},
   "source": [
    "**Ejercicio 3:** Define, de forma recursiva, la función <span style=\"color:red\">hextodec_rec(hexastring)</span> que asocie a la cadena hexastring el entero correspondiente."
   ]
  },
  {
   "cell_type": "code",
   "execution_count": null,
   "metadata": {},
   "outputs": [],
   "source": [
    "'NPI'"
   ]
  },
  {
   "cell_type": "markdown",
   "metadata": {},
   "source": [
    "## De decimal a hexadecimal"
   ]
  },
  {
   "cell_type": "markdown",
   "metadata": {},
   "source": [
    "Partimos ahora de un entero y queremos obtener la cadena que corresponde a su interpretación en hexadecimal.\n",
    "\n",
    "Esta función ya la tiene Python pero, de nuevo, la vamos a implementar como ejercicio."
   ]
  },
  {
   "cell_type": "code",
   "execution_count": null,
   "metadata": {},
   "outputs": [],
   "source": [
    "print hex(74667)"
   ]
  },
  {
   "cell_type": "markdown",
   "metadata": {},
   "source": [
    "El resto y el cociente de la división entera los podemos obtener con los operadores <span style=\"color:green\">%</span> y <span style=\"color:green\">/</span> respectivamente"
   ]
  },
  {
   "cell_type": "code",
   "execution_count": null,
   "metadata": {},
   "outputs": [],
   "source": [
    "12 % 5"
   ]
  },
  {
   "cell_type": "code",
   "execution_count": null,
   "metadata": {},
   "outputs": [],
   "source": [
    "12/5"
   ]
  },
  {
   "cell_type": "code",
   "execution_count": null,
   "metadata": {},
   "outputs": [],
   "source": [
    "l='231'\n",
    "int(l)"
   ]
  },
  {
   "cell_type": "markdown",
   "metadata": {},
   "source": [
    "**Ejercicio 4:** Define la función <span style=\"color:red\">dectohex_rec(entero)</span> que asocie a un entero su expresión en hexadecimal."
   ]
  },
  {
   "cell_type": "code",
   "execution_count": null,
   "metadata": {
    "collapsed": true
   },
   "outputs": [],
   "source": [
    "def hexadec(n):\n",
    "        if n==1 or n==2 or n==3 or n==4 or n==5 or n==6 or n==7 or n==8 or n==9 or n==0:\n",
    "            return str(n)\n",
    "        elif n==10:\n",
    "            return 'a'\n",
    "        elif n==11:\n",
    "            return 'b'\n",
    "        elif n==12:\n",
    "            return 'c'\n",
    "        elif n==13:\n",
    "            return 'd'\n",
    "        elif n==14:\n",
    "            return 'e'\n",
    "        elif n==15:\n",
    "            return 'f'\n",
    "        \n",
    "        \n",
    " "
   ]
  },
  {
   "cell_type": "code",
   "execution_count": null,
   "metadata": {},
   "outputs": [],
   "source": [
    "hexadec(9)"
   ]
  },
  {
   "cell_type": "code",
   "execution_count": null,
   "metadata": {
    "scrolled": true
   },
   "outputs": [],
   "source": [
    "def dectohex(entero):\n",
    "    i=1\n",
    "    hexa1=''\n",
    "    while entero/16>0:\n",
    "            hexa=hexadec(entero%16) \n",
    "            entero=entero/16\n",
    "            i=i+1\n",
    "            hexa1=hexa+hexa1\n",
    "    hexa1=str(entero)+hexa1         \n",
    "    return hexa1"
   ]
  },
  {
   "cell_type": "code",
   "execution_count": null,
   "metadata": {},
   "outputs": [],
   "source": [
    "dectohex(74667)"
   ]
  }
 ],
 "metadata": {
  "kernelspec": {
   "display_name": "Python 3",
   "language": "python",
   "name": "python3"
  },
  "language_info": {
   "codemirror_mode": {
    "name": "ipython",
    "version": 3
   },
   "file_extension": ".py",
   "mimetype": "text/x-python",
   "name": "python",
   "nbconvert_exporter": "python",
   "pygments_lexer": "ipython3",
   "version": "3.5.2"
  }
 },
 "nbformat": 4,
 "nbformat_minor": 1
}
