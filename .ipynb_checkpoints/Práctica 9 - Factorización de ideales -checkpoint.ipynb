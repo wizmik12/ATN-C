{
 "cells": [
  {
   "cell_type": "markdown",
   "metadata": {},
   "source": [
    "# Factorización de Ideales"
   ]
  },
  {
   "cell_type": "markdown",
   "metadata": {},
   "source": [
    "Como hasta ahora denotaremos $\\mathbb{O}$ al anillo de enteros de $\\mathbb Q (\\sqrt d )$, este será $\\mathbb O =\\mathbb Z [e]$, con: \n",
    "\n",
    "$$ \n",
    "e = \\sqrt d \\qquad\\mbox{si}\\quad d\\not\\equiv 1\\mod 4 \\quad  \\mbox{y} \\\\  \\quad e = \\frac{1+\\sqrt d}{2} \\quad \\quad\\mbox{si}\\quad d\\equiv 1\\mod 4.\n",
    "$$\n",
    "\n",
    "Voy a denotar $f$ al polinomio irreducible de $e$. Si $p$ es un primo, $f_p$ denoratá el polinomio $f$ módulo $p$.\n",
    "\n",
    "## Debemos saber:\n",
    "\n",
    "- Un ideal $I\\leq \\mathbb O$ siempre puede ser generado por dos enteros algebráicos $I=<\\alpha,\\beta>$.\n",
    "- Un sistema de generadores del grupo abeliano $(I,+)$ está dado por $\\{\\alpha,\\alpha*e,\\beta,\\beta*e\\}$.\n",
    "- La norma de $I$ es el orden del grupo abeliano cociente $\\mathbb O/I$. Es un entero positivo y pertenece a $I$.\n",
    "- Un ideal $I$ divide a otro $J$ si, y solo si, $J\\subseteq I$. Denotamos $I|J$ cuando $I$ divide a $J$. En este caso $J*I^{-1}$ es un ideal de $\\mathbb O$.\n",
    "- Si factorizamos la norma de $I$, $norma(I)=p_1,p_2,\\ldots,p_r$, y tomamos un ideal primo $\\mathfrak P$ que divida a $I$, entonces $norma(I)\\in I\\subseteq \\mathfrak P$ y por tanto existe un $i$ tal que $p_i\\in \\mathfrak P$, o equivalentemente $\\mathfrak P|p_i$ por tanto los ideales primos que dividen a $I$ están entre los ideales primos que dividen a los primos que dividen a $norma(I)$.\n",
    "- Si $p\\in \\mathbb Z$ es un primo, entonces:\n",
    "    - El ideal generado por $p$, $<p>$, es primo en $\\mathbb O$ si, y solo si, el polinomio $f_p$ es irreducible. En este caso $<p>^{-1}=\\frac{1}{p}\\mathbb O$, basta observar que $<p>*\\frac{1}{p}\\mathbb O =\\mathbb O $.\n",
    "    - Si $f_p$ es reducible, $f_p=(x-a)*(x-b)$, entonces $$<p>=\\mathfrak P_1 *\\mathfrak P_2,$$ con $\\mathfrak P_1=<p,e-a>$ y $\\mathfrak P_2 =<p,e-b>$ los únicos ideales primos que dividen a $p$. \n",
    "    - Además, en este caso, \n",
    "    $$ \\mathfrak P_1^{-1}= \\frac{1}{p}<p,e-b> \\quad\\mbox{y}\\quad \\mathfrak P_2^{-1}= \\frac{1}{p}<p,e-a>$$\n",
    "- Un ideal $\\mathfrak P$ es primo si:\n",
    "    - Su norma es un primo $p$ de $\\mathbb Z$ o bien\n",
    "    - Su norma es un primo $p$ al cuadrado, norma$(\\mathfrak P )=p^2$, $p\\in\\mathfrak P$ y $f_p$ es irreducible. En este caso $\\mathfrak P$ es el ideal principal generado por $p$."
   ]
  },
  {
   "cell_type": "code",
   "execution_count": 1,
   "metadata": {},
   "outputs": [],
   "source": [
    "from sympy import * \n",
    "from TANMLP import *"
   ]
  },
  {
   "cell_type": "markdown",
   "metadata": {},
   "source": [
    "## Funciones auxiliares."
   ]
  },
  {
   "cell_type": "markdown",
   "metadata": {},
   "source": [
    "- <span style=\"color:red\">LR</span> para calcular la matriz reducida asociada a una matriz.\n",
    "- <span style=\"color:red\">norma</span> para calcular la norma de un ideal.\n",
    "- <span style=\"color:red\">esO</span> para ver si un ideal es el total.\n",
    "- <span style=\"color:red\">pertenece</span> para ver si un elemento pertenece o no a un ideal.\n",
    "- <span style=\"color:red\">divide</span> para ver si un ideal divide a otro.\n",
    "- <span style=\"color:red\">productodos</span> para calcular dos generadores del producto de dos ideales.\n",
    "- <span style=\"color:red\">producto</span> para calcular dos generadores del producto de una lista de ideales.\n",
    "- <span style=\"color:red\">divisores($p$,d)</span>, con $p$ un primo de $\\mathbb Z$ positivo, para calcular los divisores de $p$.\n",
    "- <span style=\"color:red\">es_primo</span> para ver si un ideal es primo.\n",
    "- <span style=\"color:red\">cociente</span> para calcular el cociente $I*\\mathfrak P^{-1}$ en el caso en que el idea primo $\\mathfrak P$ divida a $I$."
   ]
  },
  {
   "cell_type": "code",
   "execution_count": 2,
   "metadata": {
    "collapsed": true
   },
   "outputs": [],
   "source": [
    "def cero(matriz):\n",
    "    #Función para una matriz de 2xn, intercambiar columnas de tal manera que en la primera fila\n",
    "    #los ceros queden al final\n",
    "    \n",
    "    #Comprobamos que sea 2xn\n",
    "    for i in range(len(matriz)):\n",
    "        if len(matriz[i])!=2:\n",
    "            print \"Mete una matriz de dimensiones válidas\"\n",
    "            return false\n",
    "    #Esta función lo que hace es recorrer la primera fila de la matriz y en cuanto detecta un cero,\n",
    "    #La recorre desde atrás hasta detectar el primer lugar donde no hay un cero para intercambiar las columnas\n",
    "    n=len(matriz)\n",
    "    for i in range (0,n):\n",
    "        if matriz[i][0]==0:\n",
    "            for j in range(n-1,i,-1):\n",
    "                if matriz[j][0]!=0:\n",
    "                    aux=matriz[j]\n",
    "                    matriz[j]=matriz[i]\n",
    "                    matriz[i]=aux\n",
    "            \n",
    "    return matriz\n",
    "            "
   ]
  },
  {
   "cell_type": "code",
   "execution_count": 3,
   "metadata": {
    "collapsed": true
   },
   "outputs": [],
   "source": [
    "def cero2(lista):\n",
    "    #Función para desplazar todos los ceros al final\n",
    "    n=len(lista)\n",
    "    #Recorre la lista y cuando detecta un 0, la recorre desde atrás hasta ver el primer lugar donde no hay un cero,\n",
    "    #para intercambiar los elementos\n",
    "    for i in range (0,n):\n",
    "        if lista[i]==0:\n",
    "            for j in range(n-1,i,-1):\n",
    "                if lista[j]!=0:\n",
    "                    aux=lista[j]\n",
    "                    lista[j]=lista[i]\n",
    "                    lista[i]=aux\n",
    "            \n",
    "    return lista"
   ]
  },
  {
   "cell_type": "code",
   "execution_count": 4,
   "metadata": {},
   "outputs": [],
   "source": [
    "def LR(matriz):\n",
    "    #Función para \"escalonar\" una matriz 2xn con elementos en un anillo, devuelvo los elementos no nulos de esa matriz\n",
    "    \n",
    "    #Comprobamos que sea 2xn\n",
    "    for i in range(len(matriz)):\n",
    "        if len(matriz[i])!=2:\n",
    "            print \"Mete una matriz de dimensiones válidas\"\n",
    "            return false\n",
    "    #Condición para entrar en el primer bucle\n",
    "    fin=false\n",
    "    for i in range(1,len(matriz)):\n",
    "            if matriz[i][0]!=0:\n",
    "                fin=true\n",
    "    #Primera parte: hacemos ceros en la primera fila\n",
    "    while(fin):\n",
    "        #Echamos todos los ceros de la primera fila al final\n",
    "        matriz=cero(matriz)\n",
    "        #Ponemos la columna que tiene el mínimo de la primera fila en primera posición\n",
    "        minimo=abs(matriz[0][0])\n",
    "        min_num=0\n",
    "        for i in range(0,len(matriz)):\n",
    "            if abs(matriz[i][0])<minimo and matriz[i][0]!=0:\n",
    "                minimo=abs(matriz[i][0])\n",
    "                min_num=i                \n",
    "        aux=matriz[0]\n",
    "        matriz[0]=matriz[min_num]\n",
    "        matriz[min_num]=aux\n",
    "        #Calculamos el cociente para empezar a restar números y hace ceros\n",
    "        cociente=int(Rational(matriz[1][0],matriz[0][0]))\n",
    "        #Hacemos las restas para hacer ceros en los lugares que no hay ceros, en ambas filas    \n",
    "        for i in range(1,len(matriz)):\n",
    "             if matriz[i][0]!=0:\n",
    "                matriz[i][1]=matriz[i][1]-matriz[0][1]*cociente\n",
    "        for i in range(1,len(matriz)):\n",
    "            if matriz[i][0]!=0:\n",
    "                matriz[i][0]=matriz[i][0]-matriz[0][0]*cociente\n",
    "        #Condición para acabar el bucle\n",
    "        fin=false\n",
    "        for i in range(1,len(matriz)):\n",
    "            if matriz[i][0]!=0:\n",
    "                fin=true\n",
    "    \n",
    "    #Nos quedamos con la primera columna\n",
    "    [a,b]=matriz[0]\n",
    "    #Nos quedamos con los c's\n",
    "    matriz2=[]\n",
    "    for i in range(1,len(matriz)):\n",
    "        matriz2.append(matriz[i][1])\n",
    "    #Segunda parte: Hacer ceros en la segunda fila (nos hemos quedado con la segunda fila como si fuera una lista)\n",
    "    #Condición para entrar al bucle\n",
    "    fin=false\n",
    "    for i in range(1,len(matriz2)):\n",
    "            if matriz2[i]!=0:\n",
    "                fin=true\n",
    "    while(fin):\n",
    "        #Echamos los ceros al final\n",
    "        matriz2=cero2(matriz2)\n",
    "        #Ponemos el menor al principio\n",
    "        minimo=abs(matriz2[0])\n",
    "        min_num=0\n",
    "        for i in range(0,len(matriz2)):\n",
    "            if abs(matriz2[i])<minimo and matriz2[i]!=0:\n",
    "                minimo=abs(matriz2[i])\n",
    "                min_num=i\n",
    "        aux=matriz2[0]\n",
    "        matriz2[0]=matriz2[min_num]\n",
    "        matriz2[min_num]=aux\n",
    "        #Dividimos para ir haciendo ceros\n",
    "        cociente=int(Rational(matriz2[1],matriz2[0]))\n",
    "        for i in range(1,len(matriz2)):\n",
    "             if matriz2[i]!=0:\n",
    "                matriz2[i]=matriz2[i]-matriz2[0]*cociente\n",
    "        #Condición para acabar el bucle\n",
    "        fin=false\n",
    "        for i in range(1,len(matriz2)):\n",
    "            if matriz2[i]!=0:\n",
    "                fin=true\n",
    "    #Devolvemos el a, b y c\n",
    "    return [a,b,matriz2[0]]"
   ]
  },
  {
   "cell_type": "code",
   "execution_count": 5,
   "metadata": {},
   "outputs": [],
   "source": [
    "def base_entera(I,d):\n",
    "    #Con esta función queremos devolver a partir de los generadores de un ideal, una base entera\n",
    "    #Vemos si el ideal es entero\n",
    "    if es_ideal_entero(I,d)==false:\n",
    "        print \"Introduce un ideal de O: \",I,\" no lo es\"\n",
    "        return false\n",
    "    #Seleccionamos la base entera de O\n",
    "    if d%4==1:\n",
    "        e=Rational(1,2)+sqrt(d)*Rational(1,2)\n",
    "    else:\n",
    "        e=sqrt(d)\n",
    "    #Calculamos los relatores, LR y obtenemos la base\n",
    "    A=Relatores_ideal(I,d)\n",
    "    A=LR(A)\n",
    "    a=A[0]\n",
    "    b=A[1]\n",
    "    c=A[2]\n",
    "    return [a+expand(simplify(b*e)),expand(simplify(c*e))]\n",
    "    "
   ]
  },
  {
   "cell_type": "code",
   "execution_count": 6,
   "metadata": {
    "collapsed": true
   },
   "outputs": [],
   "source": [
    "def norma_id(I,d):\n",
    "    #Función para calcular la norma de un ideal\n",
    "    Relatores=Relatores_ideal(I,d)\n",
    "    a=LR(Relatores)\n",
    "    return abs(a[0]*a[2])"
   ]
  },
  {
   "cell_type": "code",
   "execution_count": 7,
   "metadata": {
    "collapsed": true
   },
   "outputs": [],
   "source": [
    "def es_O(I,d):\n",
    "    #Función para ver si un ideal es el total\n",
    "    return abs(norma_id(I,d))==1"
   ]
  },
  {
   "cell_type": "code",
   "execution_count": 8,
   "metadata": {
    "collapsed": true
   },
   "outputs": [],
   "source": [
    "def pertenece(gamma,I,d):\n",
    "    #Función para ver si gamma pertenece a I\n",
    "    Relatores=Relatores_ideal(I,d)\n",
    "    coord_gamma=ab2(gamma,d)\n",
    "    a=LR(Relatores)\n",
    "    #Resolvemos el sistema tras hacerle LR y vemos si la solución es entera\n",
    "    x_1=Rational(coord_gamma[0],a[0])\n",
    "    x_2=Rational(coord_gamma[1]-expand(simplify(a[1]*x_1)),a[2])\n",
    "    return ask(Q.integer(x_1))and ask(Q.integer(x_2))"
   ]
  },
  {
   "cell_type": "code",
   "execution_count": 9,
   "metadata": {
    "collapsed": true
   },
   "outputs": [],
   "source": [
    "def divide_id(I,J,d):\n",
    "    #Función que comprueba si I divide a J\n",
    "    #Equivalentemente si J está contenido en I\n",
    "    #Comprobamos si los generadores de J están en I\n",
    "    divide=true\n",
    "    for i in range(0,len(J)):\n",
    "        divide=pertenece(J[i],I,d)\n",
    "        if divide==false:\n",
    "            return false  \n",
    "    return true"
   ]
  },
  {
   "cell_type": "code",
   "execution_count": 10,
   "metadata": {},
   "outputs": [],
   "source": [
    "def productodos(I,J,d):\n",
    "    #Hacemos el producto de dos ideales\n",
    "    I=base_entera(I,d)\n",
    "    J=base_entera(J,d)\n",
    "    IJ=[]\n",
    "    for i in range(0,len(I)):\n",
    "        for j in range(0,len(J)):\n",
    "            IJ.append(expand(simplify(I[i]*J[j])))\n",
    "    return base_entera(IJ,d)"
   ]
  },
  {
   "cell_type": "code",
   "execution_count": 11,
   "metadata": {
    "collapsed": true
   },
   "outputs": [],
   "source": [
    "def producto(lista,d):\n",
    "    #Hacemos el producto de una lista de ideales\n",
    "    n=len(lista)\n",
    "    prod=productodos(lista[0],lista[1],d)\n",
    "    for i in range(2,n):\n",
    "        prod=productodos(prod,lista[i],d)\n",
    "    return prod"
   ]
  },
  {
   "cell_type": "code",
   "execution_count": 12,
   "metadata": {},
   "outputs": [],
   "source": [
    "def divisores(p,d):\n",
    "    #Calculamos los divisores de un primo p\n",
    "    #Seleccionamos la base entera de O\n",
    "    if d%4==1:\n",
    "        e=Rational(1,2)+sqrt(d)*Rational(1,2)\n",
    "    else:\n",
    "        e=sqrt(d)\n",
    "    #Lista donde guardaremos las raíces del polinomio\n",
    "    raices=[]\n",
    "    for i in range(0,p):\n",
    "        #Evaluamos todas las posibilidades y vemos si es raíz\n",
    "        evalua=i**2-expand(simplify((traza2(e,d))*i))+norma2(e,d)\n",
    "        evalua=evalua%p\n",
    "        #Si es raíz la añadimos a nuestra lista\n",
    "        if evalua==0:\n",
    "            raices.append(i)\n",
    "    #Si es irreducible\n",
    "    if raices==[]:\n",
    "        return [[p]]\n",
    "    #Si es reducible\n",
    "    else:\n",
    "        if len(raices)==1:\n",
    "            return [[p,e-raices[0]]]\n",
    "        else:\n",
    "            return [[p,e-raices[0]],[p,e-raices[1]]]"
   ]
  },
  {
   "cell_type": "code",
   "execution_count": 13,
   "metadata": {},
   "outputs": [],
   "source": [
    "def es_primo_id(I,d):\n",
    "    #Vemos si un ideal I es primo\n",
    "    #Si la norma es primo, el ideal es primo\n",
    "    if isprime(norma_id(I,d))==true:\n",
    "        return true\n",
    "    #Si la norma es un primo al cuadrado vemos si el polinomio fp es reducible\n",
    "    elif isprime(abs(sqrt(norma_id(I,d)))) and ask(Q.integer(sqrt(norma_id(I,d)))):\n",
    "        if divisores(sqrt(abs(norma_id(I,d))),d)==[[sqrt(abs(norma_id(I,d)))]]:\n",
    "            return true\n",
    "        else:\n",
    "            return false\n",
    "    else:\n",
    "        return false"
   ]
  },
  {
   "cell_type": "code",
   "execution_count": 14,
   "metadata": {},
   "outputs": [],
   "source": [
    "def cociente_id(primo,I,d):\n",
    "    #El input de esta función es un primo de Z que divida la norma, y dividimos el ideal por el ideal primo asociado a este primo de Z que divida a I\n",
    "    #Devolvemos un par que consta del cociente y del dividendo de la división\n",
    "    #Definimos el cociente en blanco\n",
    "    cociente=[]\n",
    "    #Buscamos la base entera de nuestro anillo de enteros\n",
    "    if d%4==1:\n",
    "        e=Rational(1,2)+sqrt(d)*Rational(1,2)\n",
    "    else:\n",
    "        e=sqrt(d)\n",
    "    #Definimos los posibles divisores de nuestro ideal según este primo\n",
    "    primo1=divisores(primo,d)\n",
    "    #Si la longitud del primer término es 1, estamos en el caso que fp es irreducible\n",
    "    if len(primo1[0])==1:\n",
    "        p=primo1[0][0]\n",
    "        #El inverso\n",
    "        inv=[Rational(1,p),Rational(1,p)*e]\n",
    "        #Calculamos el cociente\n",
    "        for i in range(len(I)):\n",
    "            cociente.append(expand(simplify(I[i]*inv[0])))\n",
    "            cociente.append(expand(simplify(I[i]*inv[1])))\n",
    "        #Como el cociente es un ideal calculamos sus generadores\n",
    "        cociente=base_entera(cociente,d)\n",
    "        return [cociente,[p]]\n",
    "    else:\n",
    "        #Estamos en el caso en el que fp es reducible con 1 sola raíz (doble)\n",
    "        if len(primo1)==1:\n",
    "            #Definimos p,a que son los generadores del ideal fraccionario\n",
    "            p=primo1[0][0]\n",
    "            a=primo1[0][1]\n",
    "            #El inverso\n",
    "            inv=[1,Rational(1,p)*a]\n",
    "            #Calculamos el cociente\n",
    "            for i in range(len(I)):\n",
    "                cociente.append(expand(simplify(I[i]*inv[0])))\n",
    "                cociente.append(expand(simplify(I[i]*inv[1])))\n",
    "            #Sacamos los generadores del cociente\n",
    "            cociente=base_entera(cociente,d)\n",
    "            return [cociente,[p,a]]\n",
    "        else:\n",
    "            #Estamos en el caso en el que fp es reducible y tenemos que ver cual de las \n",
    "            #dos posibilidades divide a nuestro ideal\n",
    "            if divide_id(primo1[0],I,d):\n",
    "                #Caso en el que divide al ideal el primer elemento\n",
    "                p=primo1[1][0]\n",
    "                a=primo1[1][1]\n",
    "                b=primo1[0][1]\n",
    "                #El inverso\n",
    "                inv=[1,Rational(1,p)*a]\n",
    "                #Calculamos el cociente\n",
    "                for i in range(len(I)):\n",
    "                    cociente.append(expand(simplify(I[i]*inv[0])))\n",
    "                    cociente.append(expand(simplify(I[i]*inv[1])))\n",
    "                #Sacamos los generadores del cociente\n",
    "                cociente=base_entera(cociente,d)\n",
    "                return [cociente,[p,b]]\n",
    "            else:\n",
    "                #Estamos en el caso en el que fp tiene dos raíces distintas y la primera opción no dividía al ideal\n",
    "                p=primo1[0][0]\n",
    "                a=primo1[0][1]\n",
    "                b=primo1[1][1]\n",
    "                #el inverso\n",
    "                inv=[1,Rational(1,p)*a]\n",
    "                #calculamos el cociente\n",
    "                for i in range(len(I)):\n",
    "                    cociente.append(expand(simplify(I[i]*inv[0])))\n",
    "                    cociente.append(expand(simplify(I[i]*inv[1])))\n",
    "                #sacamos los generadores del ideal\n",
    "                cociente=base_entera(cociente,d)\n",
    "                return [cociente,[p,b]]"
   ]
  },
  {
   "cell_type": "markdown",
   "metadata": {},
   "source": [
    "## Algoritmo de factorización"
   ]
  },
  {
   "cell_type": "markdown",
   "metadata": {},
   "source": [
    "- ** Imput: ** Un ideal $I\\leq \\mathbb O$, o equivalentemente dos enteros $(\\alpha,\\beta)$ que lo generan.\n",
    "- ** Output: ** Una lista de ideales primos $[\\mathfrak P_1,\\ldots,\\mathfrak P_r]$ tal que $I=\\mathfrak P_1\\ldots \\mathfrak P_r$ o equivalentemente una lista de pares, los generadores de los ideales primos.\n",
    "\n",
    "\n",
    "   - ** Paso 1.-** Si $esO(I,d)=true$ fin, $I$ es el total.\n",
    "   - ** Paso 2.-** Si $es_primo(I,d)=true$ fin, la lista de divisores primos de $I$ es $[I]$.\n",
    "\n",
    "En otro caso:\n",
    "   - ** Paso 3.-** Calculamos la norma de $I$.\n",
    "   - ** Paso 4.-** Factorizamos la norma de $I$ en $\\mathbb Z$,  $$norma(I)=p_1 p_2\\ldots p_r.$$\n",
    "   - ** Paso 5.-** Fijamos el primer primo $p_1$ y calculamos la lista $L$ de ideales primos que dividen a $p_1$. Esta lista tiene un elemento, si $p_1$ es primo en $\\mathbb O$, o dos, si no lo es. \n",
    "   - ** Paso 6.-** Tomamos $\\mathfrak P\\in L$ comprobamos si $\\mathfrak P$ divide a $I$.\n",
    "   - ** Paso 7.-** Si $\\mathfrak P$ divide a $I$ en el **Paso 6**, añadimos $\\mathfrak P$ a la lista de divisores de $I$, tomamos \n",
    "   $$I=cociente(I,\\mathfrak P)$$\n",
    "      y volvemos al **Paso 1**. \n",
    "   - ** Paso 8.-** Si $\\mathfrak P$ no divide a $I$ en el **Paso 6** elejimos el siguiente $\\mathfrak P$ en $L$ y volvemos al **Paso 6**.\n",
    "\n",
    "El algoritmo acaba cuando $I$ es el total o un ideal primo."
   ]
  },
  {
   "cell_type": "markdown",
   "metadata": {},
   "source": [
    "###  Ejercicio1.-"
   ]
  },
  {
   "cell_type": "markdown",
   "metadata": {},
   "source": [
    "Los enteros $d$ de la lista $L$ siguiente son libres de cuadrados y el anillo de enteros de $\\mathbb Q (\\sqrt d)$ no es un DFU."
   ]
  },
  {
   "cell_type": "code",
   "execution_count": 15,
   "metadata": {},
   "outputs": [],
   "source": [
    "L=[10, 15, 26, 30, 34, 35, 39, 42, 51, 55, 58, 65, 66, 70, 74, \n",
    "  78, 79, 82, 85, 87, 91, 95, 102, 105, 106, 110, 111, 114, \n",
    "  115, 119, 122, 123, 138, 142, 143, 145, 146, \n",
    "  154, 155, 159,  165, 170, 174, 178, 182, 183, 185, 186, \n",
    "  187, 190, 194, 195]"
   ]
  },
  {
   "cell_type": "markdown",
   "metadata": {},
   "source": [
    "- Toma $k$=tres últimas cifras de tu DNI módulo 196. \n",
    "- Toma $d_1$ y $d_2$ los números en $L$ más próximos a $k$ que sean congruente y no congruente con 1 módulo 4 respectivamente.\n",
    "- Elige ideales $I_1$ e $I_2$ en el anillo de enteros de  $\\mathbb Q (\\sqrt d_i), i=1,2$, cuyas normas tengan almenos tres factores, y factorizalos."
   ]
  },
  {
   "cell_type": "markdown",
   "metadata": {},
   "source": [
    "### Factorizando en $Q(\\sqrt{178})$"
   ]
  },
  {
   "cell_type": "code",
   "execution_count": 16,
   "metadata": {},
   "outputs": [
    {
     "name": "stdout",
     "output_type": "stream",
     "text": [
      "179\n",
      "2\n"
     ]
    }
   ],
   "source": [
    "#Mi DNI es 75908039\n",
    "print 75908039%196\n",
    "#Como da 179 escogeremos 178 que no es congruente con 1 mod 4\n",
    "print 178%4\n",
    "#Ideales primos en los cuales factoriza nuestro ideal\n",
    "factores=[]"
   ]
  },
  {
   "cell_type": "code",
   "execution_count": 17,
   "metadata": {},
   "outputs": [
    {
     "name": "stdout",
     "output_type": "stream",
     "text": [
      "True True True\n",
      "2 2 3\n"
     ]
    }
   ],
   "source": [
    "#Buscamos 3 ideales primos y vemos sus normas\n",
    "print es_primo_id([2,-22+sqrt(178)],178),es_primo_id([2,sqrt(178)],178),es_primo_id([3,-2+sqrt(178)],178)\n",
    "print norma_id([2,-22+sqrt(178)],178),norma_id([2,sqrt(178)],178),norma_id([-2+sqrt(178),3],178)"
   ]
  },
  {
   "cell_type": "code",
   "execution_count": 18,
   "metadata": {},
   "outputs": [
    {
     "name": "stdout",
     "output_type": "stream",
     "text": [
      "Nuestro ideal es  [-2*sqrt(178) - 2, -6*sqrt(178)] con norma  12\n",
      "¿Es nuestro ideal O? False ¿Es primo nuestro ideal?  False\n",
      "Los factores de nuestra norma son  [2, 3]\n"
     ]
    }
   ],
   "source": [
    "#Definimos I1 como el producto de los tres ideales primos y vemos su norma\n",
    "I1=producto([[2,-22+sqrt(178)],[2,sqrt(178)],[3,-2+sqrt(178)]],178)\n",
    "norma_I1=norma_id(I1,178)\n",
    "print \"Nuestro ideal es \",I1,\"con norma \",norma_I1\n",
    "fact=list(factorint(norma_I1))\n",
    "print \"¿Es nuestro ideal O?\", es_O(I1,178), \"¿Es primo nuestro ideal? \",es_primo_id(I1,178)\n",
    "print \"Los factores de nuestra norma son \",fact"
   ]
  },
  {
   "cell_type": "code",
   "execution_count": 19,
   "metadata": {
    "scrolled": true
   },
   "outputs": [
    {
     "name": "stdout",
     "output_type": "stream",
     "text": [
      "Los divisores el ideal primo 2 son  [[2, sqrt(178)]] por lo tanto el ideal primo generado por [2,sqrt(178)] divide a nuestro ideal I1\n"
     ]
    }
   ],
   "source": [
    "print \"Los divisores el ideal primo 2 son \", divisores(2,178), \"por lo tanto el ideal primo generado por [2,sqrt(178)] divide a nuestro ideal I1\""
   ]
  },
  {
   "cell_type": "code",
   "execution_count": 20,
   "metadata": {},
   "outputs": [
    {
     "name": "stdout",
     "output_type": "stream",
     "text": [
      "Ahora tenemos el ideal  [-2*sqrt(178) - 2, -3*sqrt(178)]  con norma , 6  nuestra lista de factores es  [[2, sqrt(178)]]\n"
     ]
    }
   ],
   "source": [
    "#Definimos I1 como el cociente de I1 por los divisores del primo 2\n",
    "cociente=cociente_id(2,I1,178)\n",
    "I1=cociente[0]\n",
    "dividendo=cociente[1]\n",
    "#Añadimos el ideal generado por 2 ya que es un primo que divide a nuestro ideal\n",
    "factores.append(dividendo)\n",
    "print \"Ahora tenemos el ideal \",I1,\" con norma ,\",norma_id(I1,178),\" nuestra lista de factores es \",factores"
   ]
  },
  {
   "cell_type": "code",
   "execution_count": 21,
   "metadata": {},
   "outputs": [
    {
     "name": "stdout",
     "output_type": "stream",
     "text": [
      "Ahora tenemos el ideal  [1 + 268*sqrt(178), -3*sqrt(178)]  con norma , 3  nuestra lista de factores es  [[2, sqrt(178)], [2, sqrt(178)]]\n"
     ]
    }
   ],
   "source": [
    "#Definimos I1 como el cociente de I1 por los divisores del primo 2\n",
    "cociente=cociente_id(2,I1,178)\n",
    "I1=cociente[0]\n",
    "dividendo=cociente[1]\n",
    "#Añadimos el ideal generado por 2 ya que es un primo que divide a nuestro ideal\n",
    "factores.append(dividendo)\n",
    "print \"Ahora tenemos el ideal \",I1,\" con norma ,\",norma_id(I1,178),\" nuestra lista de factores es \",factores"
   ]
  },
  {
   "cell_type": "code",
   "execution_count": 22,
   "metadata": {},
   "outputs": [
    {
     "name": "stdout",
     "output_type": "stream",
     "text": [
      "Ahora tenemos el ideal  [1 + 268*sqrt(178), -sqrt(178)]  con norma , 1  nuestra lista de factores es  [[2, sqrt(178)], [2, sqrt(178)], [3, -2 + sqrt(178)]]\n"
     ]
    }
   ],
   "source": [
    "#Definimos I1 como el cociente de I1 por los divisores del primo 3\n",
    "cociente=cociente_id(3,I1,178)\n",
    "I1=cociente[0]\n",
    "dividendo=cociente[1]\n",
    "#Añadimos el ideal generado por 2 ya que es un primo que divide a nuestro ideal\n",
    "factores.append(dividendo)\n",
    "print \"Ahora tenemos el ideal \",I1,\" con norma ,\",norma_id(I1,178),\" nuestra lista de factores es \",factores"
   ]
  },
  {
   "cell_type": "code",
   "execution_count": 23,
   "metadata": {},
   "outputs": [
    {
     "name": "stdout",
     "output_type": "stream",
     "text": [
      "¿El ideal que nos queda es O?  True\n"
     ]
    }
   ],
   "source": [
    "print \"¿El ideal que nos queda es O? \",es_O(I1,178)"
   ]
  },
  {
   "cell_type": "code",
   "execution_count": 24,
   "metadata": {},
   "outputs": [
    {
     "data": {
      "text/plain": [
       "[-2*sqrt(178) - 2, -6*sqrt(178)]"
      ]
     },
     "execution_count": 24,
     "metadata": {},
     "output_type": "execute_result"
    }
   ],
   "source": [
    "#Comprobamos la factorización\n",
    "producto([[2,sqrt(178)],[2,sqrt(178)],[3,-2+sqrt(178)]],178)\n"
   ]
  },
  {
   "cell_type": "code",
   "execution_count": 25,
   "metadata": {},
   "outputs": [
    {
     "name": "stdout",
     "output_type": "stream",
     "text": [
      "[[2, sqrt(178)], [2, sqrt(178)], [3, -2 + sqrt(178)]]  es la factorización en primos de nuestro ideal\n"
     ]
    }
   ],
   "source": [
    "print factores, \" es la factorización en primos de nuestro ideal\""
   ]
  },
  {
   "cell_type": "markdown",
   "metadata": {},
   "source": [
    "### Factorizando en $Q(\\sqrt{185})$"
   ]
  },
  {
   "cell_type": "code",
   "execution_count": 26,
   "metadata": {},
   "outputs": [
    {
     "name": "stdout",
     "output_type": "stream",
     "text": [
      "179\n",
      "1\n"
     ]
    }
   ],
   "source": [
    "#Mi DNI es 75908039\n",
    "print 75908039%196\n",
    "#Como da 179 escogeremos 185 que es congruente con 1 mod 4\n",
    "print 185%4\n",
    "#Ideales primos en los cuales factoriza nuestro ideal\n",
    "factores=[]"
   ]
  },
  {
   "cell_type": "code",
   "execution_count": 27,
   "metadata": {},
   "outputs": [
    {
     "name": "stdout",
     "output_type": "stream",
     "text": [
      "True True True\n",
      "2 9 9\n"
     ]
    }
   ],
   "source": [
    "#Buscamos 3 ideales primos y vemos sus normas\n",
    "print es_primo_id([2, Rational(-1,2) + Rational(1,2)*sqrt(185)],185),es_primo_id([3],185),es_primo_id([27,Rational(3,2)-Rational(3,2)*sqrt(185)],185)\n",
    "print norma_id([2, Rational(-1,2) + Rational(1,2)*sqrt(185)],185),norma_id([3],185),norma_id([27,Rational(3,2)-Rational(3,2)*sqrt(185)],185)"
   ]
  },
  {
   "cell_type": "code",
   "execution_count": 28,
   "metadata": {},
   "outputs": [
    {
     "name": "stdout",
     "output_type": "stream",
     "text": [
      "Nuestro ideal es  [-21/2 + 21*sqrt(185)/2, 21 + 21*sqrt(185)] con norma  882\n",
      "¿Es nuestro ideal O? False ¿Es primo nuestro ideal?  False\n",
      "Los factores de nuestra norma son  [2, 3, 7]\n"
     ]
    }
   ],
   "source": [
    "#Definimos I1 como el producto de los tres ideales primos y vemos su norma\n",
    "I1=producto([[2, Rational(-1,2) + Rational(1,2)*sqrt(185)],[3],[7]],185)\n",
    "norma_I1=norma_id(I1,185)\n",
    "print \"Nuestro ideal es \",I1,\"con norma \",norma_I1\n",
    "fact=list(factorint(norma_I1))\n",
    "print \"¿Es nuestro ideal O?\", es_O(I1,185), \"¿Es primo nuestro ideal? \",es_primo_id(I1,185)\n",
    "print \"Los factores de nuestra norma son \",fact"
   ]
  },
  {
   "cell_type": "code",
   "execution_count": 29,
   "metadata": {},
   "outputs": [
    {
     "name": "stdout",
     "output_type": "stream",
     "text": [
      "Los divisores el ideal primo 2 son  [[2, 1/2 + sqrt(185)/2], [2, -1/2 + sqrt(185)/2]] por lo tanto el ideal primo generado por [[2, 1/2 + sqrt(185)/2] o [2, -1/2 + sqrt(185)/2]] divide a nuestro ideal I1\n"
     ]
    }
   ],
   "source": [
    "print \"Los divisores el ideal primo 2 son \", divisores(2,185), \"por lo tanto el ideal primo generado por [[2, 1/2 + sqrt(185)/2] o [2, -1/2 + sqrt(185)/2]] divide a nuestro ideal I1\""
   ]
  },
  {
   "cell_type": "code",
   "execution_count": 30,
   "metadata": {},
   "outputs": [
    {
     "name": "stdout",
     "output_type": "stream",
     "text": [
      "Ahora tenemos el ideal  [-21/2 + 21*sqrt(185)/2, 21/2 + 21*sqrt(185)/2]  con norma , 441  nuestra lista de factores es  [[2, -1/2 + sqrt(185)/2]]\n"
     ]
    }
   ],
   "source": [
    "#Definimos I1 como el cociente de I1 por los divisores del primo 2\n",
    "cociente=cociente_id(2,I1,185)\n",
    "I1=cociente[0]\n",
    "dividendo=cociente[1]\n",
    "#Añadimos el ideal generado por 2 ya que es un primo que divide a nuestro ideal\n",
    "factores.append(dividendo)\n",
    "print \"Ahora tenemos el ideal \",I1,\" con norma ,\",norma_id(I1,185),\" nuestra lista de factores es \",factores"
   ]
  },
  {
   "cell_type": "code",
   "execution_count": 31,
   "metadata": {},
   "outputs": [
    {
     "name": "stdout",
     "output_type": "stream",
     "text": [
      "Ahora tenemos el ideal  [-7/2 + 7*sqrt(185)/2, 7/2 + 7*sqrt(185)/2]  con norma , 49  nuestra lista de factores es  [[2, -1/2 + sqrt(185)/2], [3]]\n"
     ]
    }
   ],
   "source": [
    "#Definimos I1 como el cociente de I1 por los divisores del primo 2\n",
    "cociente=cociente_id(3,I1,185)\n",
    "I1=cociente[0]\n",
    "dividendo=cociente[1]\n",
    "#Añadimos el ideal generado por 2 ya que es un primo que divide a nuestro ideal\n",
    "factores.append(dividendo)\n",
    "print \"Ahora tenemos el ideal \",I1,\" con norma ,\",norma_id(I1,185),\" nuestra lista de factores es \",factores"
   ]
  },
  {
   "cell_type": "code",
   "execution_count": 32,
   "metadata": {},
   "outputs": [
    {
     "name": "stdout",
     "output_type": "stream",
     "text": [
      "Ahora tenemos el ideal  [-1/2 + sqrt(185)/2, 1/2 + sqrt(185)/2]  con norma , 1  nuestra lista de factores es  [[2, -1/2 + sqrt(185)/2], [3], [7]]\n"
     ]
    }
   ],
   "source": [
    "#Definimos I1 como el cociente de I1 por los divisores del primo 2\n",
    "cociente=cociente_id(7,I1,185)\n",
    "I1=cociente[0]\n",
    "dividendo=cociente[1]\n",
    "#Añadimos el ideal generado por 2 ya que es un primo que divide a nuestro ideal\n",
    "factores.append(dividendo)\n",
    "print \"Ahora tenemos el ideal \",I1,\" con norma ,\",norma_id(I1,185),\" nuestra lista de factores es \",factores"
   ]
  },
  {
   "cell_type": "code",
   "execution_count": 33,
   "metadata": {},
   "outputs": [
    {
     "name": "stdout",
     "output_type": "stream",
     "text": [
      "¿El ideal que nos queda es O?  True\n"
     ]
    }
   ],
   "source": [
    "print \"¿El ideal que nos queda es O? \",es_O(I1,185)"
   ]
  },
  {
   "cell_type": "code",
   "execution_count": 34,
   "metadata": {},
   "outputs": [
    {
     "data": {
      "text/plain": [
       "[-21/2 + 21*sqrt(185)/2, 21 + 21*sqrt(185)]"
      ]
     },
     "execution_count": 34,
     "metadata": {},
     "output_type": "execute_result"
    }
   ],
   "source": [
    "#Comprobamos la factorización \n",
    "producto(factores,185)\n"
   ]
  },
  {
   "cell_type": "markdown",
   "metadata": {
    "collapsed": true
   },
   "source": [
    "### Ejercicio 2 (Avanzado).-"
   ]
  },
  {
   "cell_type": "markdown",
   "metadata": {},
   "source": [
    "Define una función <span style=\"color:red\">factoriza_id</span> para factorizar ideales. Comprueba que obtienes los mismos resultados que has obtenido en el ejercicio 1."
   ]
  },
  {
   "cell_type": "code",
   "execution_count": 35,
   "metadata": {},
   "outputs": [],
   "source": [
    "def factoriza_id(I1,d):\n",
    "    if libre_de_cuadrados(d)!=true:\n",
    "        print \"Introduce un d libre de cuadrados\"\n",
    "        return false\n",
    "    #Vemos si el ideal es entero\n",
    "    if es_ideal_entero(I1,d)==false:\n",
    "        print I1,\" no es entero\"\n",
    "        return false\n",
    "    #Vemos si el ideal es O\n",
    "    if es_O(I1,d):\n",
    "        print \"Este ideal es O\"\n",
    "        return {tuple(I1):1}\n",
    "   \n",
    "        \n",
    "    #Calculamos la norma de n y la lista con los factores de la norma\n",
    "    norm=norma_id(I1,d)\n",
    "    fact=list(factorint(norm))\n",
    "    #Lista donde guardar los factores del ideal\n",
    "    factores=[]\n",
    "    #Para cada valor de la lista de factores de la norma\n",
    "    for i in range(0,len(fact)):\n",
    "        #Comprobamos si el ideal es O\n",
    "        if es_O(I1,d):\n",
    "                break\n",
    "        #Calculamos los divisores de este primo\n",
    "        div=divisores(fact[i],d)\n",
    "        #Para cada elemento de los divisores comprobamos si divide al ideal\n",
    "        for j in range(0,len(div)):\n",
    "            while divide_id(div[j],I1,d):\n",
    "                    #Si lo divide, calculamos cociente y dividendo, y añadimos a la lista de factores el dividendo\n",
    "                    cociente=cociente_id(fact[i],I1,d)\n",
    "                    I1=cociente[0]\n",
    "                    dividendo=cociente[1]\n",
    "                    factores.append(dividendo)\n",
    "    #Contamos los factores\n",
    "    factores=contador(factores)\n",
    "    #Devolvemos un diccionario con la factorización\n",
    "    dic_fact={}\n",
    "    for i in range(0,len(factores)):\n",
    "        dic_fact[tuple(factores[i][0])]=factores[i][1]\n",
    "        \n",
    "    return dic_fact\n",
    "        \n",
    "        \n",
    "    \n",
    "    "
   ]
  },
  {
   "cell_type": "code",
   "execution_count": 36,
   "metadata": {},
   "outputs": [
    {
     "name": "stdout",
     "output_type": "stream",
     "text": [
      "Este ideal es O\n"
     ]
    },
    {
     "data": {
      "text/plain": [
       "{(1, 2): 1}"
      ]
     },
     "execution_count": 36,
     "metadata": {},
     "output_type": "execute_result"
    }
   ],
   "source": [
    "#Si metemos un ideal que es O, nos avisa que es O y nos devuelve la factorización como él mismo \n",
    "factoriza_id([1,2],178)"
   ]
  },
  {
   "cell_type": "code",
   "execution_count": 37,
   "metadata": {},
   "outputs": [
    {
     "data": {
      "text/plain": [
       "{(3,): 1}"
      ]
     },
     "execution_count": 37,
     "metadata": {},
     "output_type": "execute_result"
    }
   ],
   "source": [
    "#Si metemos un ideal primo nos devuelve el primo\n",
    "factoriza_id([3],185)"
   ]
  },
  {
   "cell_type": "markdown",
   "metadata": {},
   "source": [
    "Comprobamos que obtenemos los mismos resultados que con el paso a paso"
   ]
  },
  {
   "cell_type": "code",
   "execution_count": 38,
   "metadata": {},
   "outputs": [
    {
     "data": {
      "text/plain": [
       "{(2, sqrt(178)): 2, (3, -2 + sqrt(178)): 1}"
      ]
     },
     "execution_count": 38,
     "metadata": {},
     "output_type": "execute_result"
    }
   ],
   "source": [
    "factoriza_id([-2*sqrt(178) - 2, -6*sqrt(178)],178)"
   ]
  },
  {
   "cell_type": "code",
   "execution_count": 39,
   "metadata": {},
   "outputs": [
    {
     "data": {
      "text/plain": [
       "{(2, -1/2 + sqrt(185)/2): 1, (3,): 1, (7,): 1}"
      ]
     },
     "execution_count": 39,
     "metadata": {},
     "output_type": "execute_result"
    }
   ],
   "source": [
    "factoriza_id([Rational(-21,2)+ Rational(21,2)*sqrt(185), 21 + 21*sqrt(185)],185)"
   ]
  },
  {
   "cell_type": "markdown",
   "metadata": {},
   "source": [
    "Otros ejemplos"
   ]
  },
  {
   "cell_type": "code",
   "execution_count": 40,
   "metadata": {},
   "outputs": [
    {
     "data": {
      "text/plain": [
       "{(2, -1 + sqrt(15)): 1, (3, sqrt(15)): 1}"
      ]
     },
     "execution_count": 40,
     "metadata": {},
     "output_type": "execute_result"
    }
   ],
   "source": [
    "factoriza_id([-3+3*sqrt(15),2*sqrt(15)],15)"
   ]
  },
  {
   "cell_type": "code",
   "execution_count": 41,
   "metadata": {},
   "outputs": [
    {
     "data": {
      "text/plain": [
       "[-3 + 3*sqrt(15), 2*sqrt(15)]"
      ]
     },
     "execution_count": 41,
     "metadata": {},
     "output_type": "execute_result"
    }
   ],
   "source": [
    "#Comprobamos\n",
    "producto([[2,-1+sqrt(15)],[3,sqrt(15)]],15)"
   ]
  },
  {
   "cell_type": "code",
   "execution_count": 42,
   "metadata": {},
   "outputs": [
    {
     "data": {
      "text/plain": [
       "{(2, sqrt(26)): 8, (11, -9 + sqrt(26)): 2}"
      ]
     },
     "execution_count": 42,
     "metadata": {},
     "output_type": "execute_result"
    }
   ],
   "source": [
    "factoriza_id([-16 + 3343728*sqrt(26), -1936*sqrt(26)],26)"
   ]
  },
  {
   "cell_type": "code",
   "execution_count": 43,
   "metadata": {},
   "outputs": [
    {
     "data": {
      "text/plain": [
       "[-16 + 3343728*sqrt(26), -1936*sqrt(26)]"
      ]
     },
     "execution_count": 43,
     "metadata": {},
     "output_type": "execute_result"
    }
   ],
   "source": [
    "#Comprobamos\n",
    "producto([[2,sqrt(26)],[2,sqrt(26)],[2,sqrt(26)],[2,sqrt(26)],[2,sqrt(26)],[2,sqrt(26)],[2,sqrt(26)],[2,sqrt(26)],[11, -9 + sqrt(26)],[11, -9 + sqrt(26)]],26)"
   ]
  },
  {
   "cell_type": "markdown",
   "metadata": {},
   "source": [
    "## Factorizando en d libres de cuadrados"
   ]
  },
  {
   "cell_type": "code",
   "execution_count": 44,
   "metadata": {},
   "outputs": [
    {
     "data": {
      "text/plain": [
       "{(2, -1 + I): 2}"
      ]
     },
     "execution_count": 44,
     "metadata": {},
     "output_type": "execute_result"
    }
   ],
   "source": [
    "factoriza_id([2,0],-1)"
   ]
  },
  {
   "cell_type": "code",
   "execution_count": 45,
   "metadata": {},
   "outputs": [
    {
     "data": {
      "text/plain": [
       "[2, 2*I]"
      ]
     },
     "execution_count": 45,
     "metadata": {},
     "output_type": "execute_result"
    }
   ],
   "source": [
    "producto([[2,-1+sqrt(-1)],[2,-1+sqrt(-1)]],-1)"
   ]
  },
  {
   "cell_type": "code",
   "execution_count": 46,
   "metadata": {},
   "outputs": [
    {
     "data": {
      "text/plain": [
       "True"
      ]
     },
     "execution_count": 46,
     "metadata": {},
     "output_type": "execute_result"
    }
   ],
   "source": [
    "divide_id([2,2*sqrt(-1)],[2,0],-1)"
   ]
  },
  {
   "cell_type": "code",
   "execution_count": 47,
   "metadata": {},
   "outputs": [
    {
     "data": {
      "text/plain": [
       "True"
      ]
     },
     "execution_count": 47,
     "metadata": {},
     "output_type": "execute_result"
    }
   ],
   "source": [
    "divide_id([2,0],[2,2*sqrt(-1)],-1)"
   ]
  }
 ],
 "metadata": {
  "kernelspec": {
   "display_name": "Python 3",
   "language": "python",
   "name": "python3"
  },
  "language_info": {
   "codemirror_mode": {
    "name": "ipython",
    "version": 3
   },
   "file_extension": ".py",
   "mimetype": "text/x-python",
   "name": "python",
   "nbconvert_exporter": "python",
   "pygments_lexer": "ipython3",
   "version": "3.5.2"
  }
 },
 "nbformat": 4,
 "nbformat_minor": 1
}
