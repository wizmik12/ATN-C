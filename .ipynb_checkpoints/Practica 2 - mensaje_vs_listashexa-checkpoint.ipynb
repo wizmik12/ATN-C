{
 "cells": [
  {
   "cell_type": "markdown",
   "metadata": {},
   "source": [
    "# Mensajes vs listas de números en hexadecimal"
   ]
  },
  {
   "cell_type": "markdown",
   "metadata": {},
   "source": [
    "El objetivo de esta práctica es definir una función que asocie a un mensaje una lista de cadenas en hexadecimal y otra función en sentido opuesto. "
   ]
  },
  {
   "cell_type": "markdown",
   "metadata": {},
   "source": [
    "Las funciones <span style=\"color:green\">encode</span> y <span style=\"color:green\">decode</span>"
   ]
  },
  {
   "cell_type": "code",
   "execution_count": 11,
   "metadata": {},
   "outputs": [],
   "source": [
    "mensaje = 'Hola, ¿cómo estás?'"
   ]
  },
  {
   "cell_type": "code",
   "execution_count": 12,
   "metadata": {},
   "outputs": [
    {
     "name": "stdout",
     "output_type": "stream",
     "text": [
      "Hola, ¿cómo estás?\n"
     ]
    }
   ],
   "source": [
    "print mensaje"
   ]
  },
  {
   "cell_type": "code",
   "execution_count": 13,
   "metadata": {},
   "outputs": [
    {
     "data": {
      "text/plain": [
       "str"
      ]
     },
     "execution_count": 13,
     "metadata": {},
     "output_type": "execute_result"
    }
   ],
   "source": [
    "type(mensaje)"
   ]
  },
  {
   "cell_type": "markdown",
   "metadata": {},
   "source": [
    "Un problema con los signos de puntuación ...\n",
    "\n",
    "Si preguntamos por el símbolo en el lugar 0 de mensaje obtenemos"
   ]
  },
  {
   "cell_type": "code",
   "execution_count": 14,
   "metadata": {},
   "outputs": [
    {
     "data": {
      "text/plain": [
       "'H'"
      ]
     },
     "execution_count": 14,
     "metadata": {},
     "output_type": "execute_result"
    }
   ],
   "source": [
    "mensaje[0]"
   ]
  },
  {
   "cell_type": "markdown",
   "metadata": {},
   "source": [
    "Sin embargo si preguntamos por el símbolo en el lugar 6"
   ]
  },
  {
   "cell_type": "code",
   "execution_count": 15,
   "metadata": {},
   "outputs": [
    {
     "data": {
      "text/plain": [
       "'\\xc2'"
      ]
     },
     "execution_count": 15,
     "metadata": {},
     "output_type": "execute_result"
    }
   ],
   "source": [
    "mensaje[6]"
   ]
  },
  {
   "cell_type": "code",
   "execution_count": 16,
   "metadata": {},
   "outputs": [
    {
     "name": "stdout",
     "output_type": "stream",
     "text": [
      "�\n"
     ]
    }
   ],
   "source": [
    "print mensaje[6]"
   ]
  },
  {
   "cell_type": "markdown",
   "metadata": {},
   "source": [
    "Podemos asociar una cadena hexadecimal al mensaje con la función <span style=\"color:green\">encode</span> y la variable <span style=\"color:green\">'hex'</span>"
   ]
  },
  {
   "cell_type": "code",
   "execution_count": 17,
   "metadata": {},
   "outputs": [
    {
     "name": "stdout",
     "output_type": "stream",
     "text": [
      "486f6c612c20c2bf63c3b36d6f20657374c3a1733f\n"
     ]
    }
   ],
   "source": [
    "mensaje_cod=mensaje.encode('hex')\n",
    "print mensaje_cod"
   ]
  },
  {
   "cell_type": "markdown",
   "metadata": {},
   "source": [
    "Y podemos recuperar el mensaje original con la función <span style=\"color:green\">decode</span>"
   ]
  },
  {
   "cell_type": "code",
   "execution_count": 18,
   "metadata": {},
   "outputs": [
    {
     "name": "stdout",
     "output_type": "stream",
     "text": [
      "Hola, ¿cómo estás?\n"
     ]
    }
   ],
   "source": [
    "print mensaje_cod.decode('hex')"
   ]
  },
  {
   "cell_type": "markdown",
   "metadata": {},
   "source": [
    "Si el mensaje que tenemos es muy largo, el número hexadecimal que obtenemos con la función <span style=\"color:green\">encode</span> es demasiado grande. \n",
    "\n",
    "Para hacer viable el proceso de codificación vamos a dividir cada mensaje en trozos, uno para cada palabra. Aplicaremos la función <span style=\"color:green\">encode</span> a cada palabra en lugar de al mensaje completo."
   ]
  },
  {
   "cell_type": "markdown",
   "metadata": {},
   "source": [
    "- **Ejercicio 1:** Define una función <span style=\"color:reed\">lista_palabras(mensaje)</span> que asocie a un mensaje (cadena) una lista (de cadenas) con cada una de las palabras del mensaje. Si la palabra está precedida o seguida por un símbolo de puntuación, admiración, interrogación, etc. integraremos dicho símbolo a la palabra.\n",
    "\n",
    "Por ejemplo queremos que nuestra función <span style=\"color:reed\">lista_palabras</span> aplicada a nuestro mensaje <span style=\"color:blue\">'Hola, ¿cómo estás?'</span> produzca la lista <span style=\"color:blue\">['Hola,', '¿cómo', 'estás?']</span>."
   ]
  },
  {
   "cell_type": "code",
   "execution_count": 19,
   "metadata": {},
   "outputs": [],
   "source": [
    "def lista_palabras(mensaje):\n",
    "    j=0\n",
    "    lista=[]\n",
    "    \n",
    "    for i in range(0,len(mensaje)):\n",
    "        if mensaje[i]==' ':\n",
    "            lista=lista+[str(mensaje[j:i])]\n",
    "            j=i+1\n",
    "        if i==len(mensaje)-1:\n",
    "            lista=lista+[str(mensaje[j:i+1])]\n",
    "    return lista\n",
    "            "
   ]
  },
  {
   "cell_type": "code",
   "execution_count": 20,
   "metadata": {},
   "outputs": [
    {
     "data": {
      "text/plain": [
       "3"
      ]
     },
     "execution_count": 20,
     "metadata": {},
     "output_type": "execute_result"
    }
   ],
   "source": [
    "mensaje='Hola, como estas?'\n",
    "lista=lista_palabras(mensaje)\n",
    "len(lista)"
   ]
  },
  {
   "cell_type": "markdown",
   "metadata": {},
   "source": [
    "- **Ejercicio 2:** Define una función <span style=\"color:red\">str_to_hexalist(mensaje)</span> que a un mensaje le asocie la lista de números en hexadecimal correspondiente a cada palabra del mensaje."
   ]
  },
  {
   "cell_type": "code",
   "execution_count": 21,
   "metadata": {},
   "outputs": [],
   "source": [
    "from hex import *"
   ]
  },
  {
   "cell_type": "code",
   "execution_count": 22,
   "metadata": {},
   "outputs": [
    {
     "data": {
      "text/plain": [
       "'d'"
      ]
     },
     "execution_count": 22,
     "metadata": {},
     "output_type": "execute_result"
    }
   ],
   "source": [
    "hexadec(13)"
   ]
  },
  {
   "cell_type": "code",
   "execution_count": 29,
   "metadata": {},
   "outputs": [],
   "source": [
    "def str_to_hexalist(mensaje):\n",
    "    lista=lista_palabras(mensaje)\n",
    "    for i in range(0,len(lista)):\n",
    "        lista[i]=lista[i].encode('hex')\n",
    "        \n",
    "    return lista\n",
    "        "
   ]
  },
  {
   "cell_type": "code",
   "execution_count": 31,
   "metadata": {},
   "outputs": [
    {
     "data": {
      "text/plain": [
       "['486f6c61', '717565', '74616c']"
      ]
     },
     "execution_count": 31,
     "metadata": {},
     "output_type": "execute_result"
    }
   ],
   "source": [
    "mensaje=str_to_hexalist('Hola que tal')\n",
    "mensaje"
   ]
  },
  {
   "cell_type": "markdown",
   "metadata": {},
   "source": [
    "- **Ejercicio 3:** Define una función <span style=\"color:red\">hexalist_to_str(lista)</span> que sea la inversa de la función <span style=\"color:red\">str_to_hexalist(mensaje)</span> definida en el ejercicio 2."
   ]
  },
  {
   "cell_type": "code",
   "execution_count": 25,
   "metadata": {},
   "outputs": [],
   "source": [
    "def hexalist_to_str(lista):\n",
    "    mensaje=''\n",
    "    for i in range(0,len(lista)):\n",
    "        if i==len(lista)-1:\n",
    "            mensaje=mensaje+lista[i].decode('hex')\n",
    "        else:\n",
    "            mensaje=mensaje+lista[i].decode('hex')+' '\n",
    "        \n",
    "        \n",
    "    return mensaje"
   ]
  }
 ],
 "metadata": {
  "kernelspec": {
   "display_name": "Python 3",
   "language": "python",
   "name": "python3"
  },
  "language_info": {
   "codemirror_mode": {
    "name": "ipython",
    "version": 3
   },
   "file_extension": ".py",
   "mimetype": "text/x-python",
   "name": "python",
   "nbconvert_exporter": "python",
   "pygments_lexer": "ipython3",
   "version": "3.5.2"
  }
 },
 "nbformat": 4,
 "nbformat_minor": 1
}
