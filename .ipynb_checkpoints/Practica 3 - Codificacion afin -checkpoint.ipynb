{
 "cells": [
  {
   "cell_type": "markdown",
   "metadata": {},
   "source": [
    "#  Codificación Afín"
   ]
  },
  {
   "cell_type": "markdown",
   "metadata": {},
   "source": [
    "### Funciones que nos harán falta"
   ]
  },
  {
   "cell_type": "code",
   "execution_count": 1,
   "metadata": {
    "collapsed": true
   },
   "outputs": [],
   "source": [
    "from sympy import *"
   ]
  },
  {
   "cell_type": "code",
   "execution_count": 2,
   "metadata": {},
   "outputs": [],
   "source": [
    "from TANMLP import *"
   ]
  },
  {
   "cell_type": "markdown",
   "metadata": {},
   "source": [
    "## Algoritmo de codificación afín:\n",
    "\n",
    "- **Entrada:** \n",
    "   - Un mensaje ( tipo str).\n",
    "   - Llaves $a,b,n$\n",
    "- **Salida:** una lista de números.\n",
    "    - *Paso 1.-* Convertir el mensaje en una lista de palabras. Usando la función <span style=\"color:red\">lista_palabras</span> de la práctica mensaje_vs_listashexa.\n",
    "    - *Paso 2.-* Convertir la lista de palabras del paso 1 en una lista de números en hexadecimal. Usando la función <span style=\"color:red\">str_to_hexalist</span> de la práctica mensaje_vs_listashexa.\n",
    "    - *Paso 3.-* Convertir la lista de números en hexadecimal obtenida en el paso 2 en una lista de números en decimal.\n",
    "    - *Paso 4.-* Aplicar a cada x en la lista de números obtenida en el paso 3 la transformación afín $x\\mapsto a*x+b \\mod n$.\n"
   ]
  },
  {
   "cell_type": "markdown",
   "metadata": {},
   "source": [
    "### Ejercicios:\n",
    "\n",
    "- ***Ejercicio 1.-*** Define una función <span style=\"color:red\">cod_afin(mensaje,a,b,n)</span> que codifique, siguiendo el algoritmo anterior, el mensaje utilizando las llaves $a, b$ y $n$.\n",
    "- ***Ejercicio 2.-*** Define una función <span style=\"color:red\">deco_afin(lista,a,b,n)</span>  para decodificar.\n"
   ]
  },
  {
   "cell_type": "code",
   "execution_count": 3,
   "metadata": {
    "collapsed": true
   },
   "outputs": [],
   "source": [
    "def cod_afin(mensaje,a,b,n):\n",
    "    hexalista=str_to_hexalist(mensaje)\n",
    "    declista=hexalist_to_dec(hexalista)\n",
    "    for i in range(0,len(declista)):\n",
    "        declista[i]=((declista[i]*a)+b)%n\n",
    "    return declista\n",
    "    "
   ]
  },
  {
   "cell_type": "code",
   "execution_count": 4,
   "metadata": {
    "collapsed": true
   },
   "outputs": [],
   "source": [
    "def deco_afin(declista,a,b,n):\n",
    "    a_inv=gcdex(a%n,n)[0]\n",
    "    for i in range(0,len(declista)):\n",
    "        declista[i]=((declista[i]-b)*a_inv)%n\n",
    "    hexlista=declist_to_hex(declista)\n",
    "    mensaje=hexalist_to_str(hexlista)\n",
    "    return mensaje"
   ]
  },
  {
   "cell_type": "markdown",
   "metadata": {
    "collapsed": true
   },
   "source": [
    "- ***Ejercicio 3.-***  Hemos interceptado la siguiente conversación por whatsApp\n",
    "    - **Juan:** Hola Pepe, mándame tu emilio que se me ha olvidado.\n",
    "    - **Pepe:** Tio!!!! ya se que los wasas no los suelen pillar pero ¿quien sabe?. Aquí lo tienes\n",
    "    <span style=\"color:blue\">$$239395827813103217446417939412897986230469L$$</span>\n",
    "    \n",
    " Poco después interceptamos el siguiente mensaje \n",
    " \n",
    "From: Juan Perez <camello@hotmail.com>;\n",
    "\n",
    "To: PePePote <miguel@gmail.com>;\n",
    "\n",
    "Subject: me falta material\n",
    "\n",
    "Sent: Tue, Nov 3, 2015 11:33:52 AM \n",
    "\n",
    "<span style=\"color:blue\">[734461933241186472969159L,\n",
    " 3479061447L,\n",
    " 279048452422856320052380615L,\n",
    " 1033071336087238343541703L,\n",
    " 974677623751L,\n",
    " 57111833218663367L,\n",
    " 15623803945216525255L,\n",
    " 82854855L,\n",
    " 60467473986372551L,\n",
    " 3668513721263902442439L,\n",
    " 3444589511L,\n",
    " 17334517580104451101254374802375L,\n",
    " 82592711L,\n",
    " 60467473986372551L,\n",
    " 3779622034147530130375L,\n",
    " 83116999L,\n",
    " 60467473986372551L,\n",
    " 264466043694263907817243591L,\n",
    " 83379143L,\n",
    " 60467473986372551L,\n",
    " 1011702180066720474247122611588711367L,\n",
    " 422599607239L,\n",
    " 60467473986372551L,\n",
    " 3596316486929890821063L,\n",
    " 87573447L,\n",
    " 150370786493383L,\n",
    " 63301989324833735L,\n",
    " 974677623751L,\n",
    " 3746579399L,\n",
    " 16776694611630113735L,\n",
    " 58761092235019207L,\n",
    " 931058697159L,\n",
    " 4072327277505474741191L,\n",
    " 854218392519L,\n",
    " 65516448726401991L,\n",
    " 279010673496068622020133831L,\n",
    " 974677623751L,\n",
    " 16195758769623286727L,\n",
    " 974677623751L,\n",
    " 240419345292453720535876551L,\n",
    " 245091927606215L,\n",
    " 218660732421063L,\n",
    " 3479323591L,\n",
    " 61056768799294407L,\n",
    " 3578807239L,\n",
    " 58760954294977479L,\n",
    " 75164731049239781261403767751L]</span>\n",
    "\n",
    "Además sabemos que estos tíos van a lo grande por lo que hemos deducido que la palabra que más se repite en el mensaje es kilos.\n",
    "\n",
    "Cuando estábamos desesperados, porque no lográbamos descifrar la conversación, interceptamos la siguiente conversación:\n",
    "   - **Pepe:** ¿que coj@n@s de número has usado para hacer el módulo?\n",
    "   - **Juan:** Tanta seguridad y ahora me preguntas eso....$$553612260071847767819357303824754235825777.$$\n",
    "   \n",
    "\n",
    "Descifra el mensaje a ver si podemos usarlo como prueba incriminatoria para poner a estos dos a la sombra.\n",
    "\n",
    "**Nota:** Sustituye la variable 'nombre' en la dirección de correo de Pepe por tu nombre en minúscula."
   ]
  },
  {
   "cell_type": "markdown",
   "metadata": {},
   "source": [
    "- ***<span style=\"color:blue\">Resolución ejercicio 3.-</span>***  Para descifrar el mensaje nos hacen falta el a, b y n. El n lo tenemos ya por lo que tendremos que averiguar el a y el b. Para ello necesitamos conseguir dos palabras cifradas que sepamos cuales son. Por un lado tenemos el email cifrado que descifrado es: 'miguel@gmail.com' que corresponde a 239395827813103217446417939412897986230469  y por otro lado sabemos que como la palabra que más se repite es 'kilos', mirando el mensaje la palabra cifrada que más se repite  es: 60467473986372551 que corresponde a 'kilos'. Entonces sabiendo la n, tenemos un sistema de dos congruencias del cual podemos obtener fácilmente el a y el b.\n",
    "\n",
    "Aún nos queda por saber el entero sin cifrar que corresponde a al email y la palabra 'kilos', para ello usaremos las funciones que hemos declarado más arriba para pasar cadena a hexadecimal y luego a decimal. A 'kilos' corresponde 461330214771 y al email 145433141099975031458317308574329696109. \n",
    "\n",
    "El sistema a resolver sería:\n",
    "\n",
    "$$\\left.\n",
    " 239395827813103217446417939412897986230469 \\equiv 145433141099975031458317308574329696109\\ a + b \\mod 553612260071847767819357303824754235825777  \\atop\n",
    "60467473986372551 \\equiv 461330214771\\ a + b \\mod 553612260071847767819357303824754235825777\n",
    "\\right\\}$$\n",
    "\n",
    "Restando ambas ecuaciones nos queda: \n",
    "\n",
    "$$314216432258744550372939424879330235967859 \\equiv 553466826930747792787898986516641236344439\\ a \\mod 553612260071847767819357303824754235825777$$\n",
    "\n",
    "Multiplicando por el inverso de a que es 9602170206379672886540030825254567294751 obtenemos el valor de a:\n",
    "\n",
    "$$131072 \\equiv \\ a \\mod 553612260071847767819357303824754235825777$$\n",
    "\n",
    "Para hallar b  despejando de la primera congruencia:\n",
    "\n",
    "$$2393-a \\ 145433141099975031458317308574329696109 \\equiv \\ b \\mod 553612260071847767819357303824754235825777$$\n",
    "\n",
    "$$75908039 \\equiv \\ b \\mod 553612260071847767819357303824754235825777 $$\n",
    "\n",
    "Teniendo ya a, b y n procederemos a descifrar el mensaje."
   ]
  },
  {
   "cell_type": "markdown",
   "metadata": {},
   "source": [
    "### Cálculos:"
   ]
  },
  {
   "cell_type": "code",
   "execution_count": 5,
   "metadata": {},
   "outputs": [
    {
     "data": {
      "text/plain": [
       "[145433141099975031458317308574329696109L]"
      ]
     },
     "execution_count": 5,
     "metadata": {},
     "output_type": "execute_result"
    }
   ],
   "source": [
    "hexalista=str_to_hexalist('miguel@gmail.com')\n",
    "declista=hexalist_to_dec(hexalista)\n",
    "declista"
   ]
  },
  {
   "cell_type": "code",
   "execution_count": 6,
   "metadata": {},
   "outputs": [
    {
     "data": {
      "text/plain": [
       "[461330214771L]"
      ]
     },
     "execution_count": 6,
     "metadata": {},
     "output_type": "execute_result"
    }
   ],
   "source": [
    "hexalista=str_to_hexalist('kilos')\n",
    "declista=hexalist_to_dec(hexalista)\n",
    "declista"
   ]
  },
  {
   "cell_type": "code",
   "execution_count": 7,
   "metadata": {
    "collapsed": true
   },
   "outputs": [],
   "source": [
    "x=(461330214771-145433141099975031458317308574329696109)%553612260071847767819357303824754235825777\n",
    "y=(60467473986372551-239395827813103217446417939412897986230469)%553612260071847767819357303824754235825777"
   ]
  },
  {
   "cell_type": "code",
   "execution_count": 8,
   "metadata": {},
   "outputs": [
    {
     "name": "stdout",
     "output_type": "stream",
     "text": [
      "(314216432258744550372939424879330235967859L, 553466826930747792787898986516641236344439L)\n"
     ]
    }
   ],
   "source": [
    "print(y,x)"
   ]
  },
  {
   "cell_type": "code",
   "execution_count": 9,
   "metadata": {},
   "outputs": [
    {
     "data": {
      "text/plain": [
       "9602170206379672886540030825254567294751"
      ]
     },
     "execution_count": 9,
     "metadata": {},
     "output_type": "execute_result"
    }
   ],
   "source": [
    "gcdex(x,553612260071847767819357303824754235825777)[0]%553612260071847767819357303824754235825777"
   ]
  },
  {
   "cell_type": "code",
   "execution_count": 10,
   "metadata": {},
   "outputs": [
    {
     "data": {
      "text/plain": [
       "131072"
      ]
     },
     "execution_count": 10,
     "metadata": {},
     "output_type": "execute_result"
    }
   ],
   "source": [
    "(gcdex(x,553612260071847767819357303824754235825777)[0]*y)%553612260071847767819357303824754235825777"
   ]
  },
  {
   "cell_type": "code",
   "execution_count": 11,
   "metadata": {},
   "outputs": [
    {
     "data": {
      "text/plain": [
       "75908039L"
      ]
     },
     "execution_count": 11,
     "metadata": {},
     "output_type": "execute_result"
    }
   ],
   "source": [
    "(239395827813103217446417939412897986230469-(131072*145433141099975031458317308574329696109))%553612260071847767819357303824754235825777"
   ]
  },
  {
   "cell_type": "markdown",
   "metadata": {},
   "source": [
    "### Decodificación del mensaje:"
   ]
  },
  {
   "cell_type": "code",
   "execution_count": 12,
   "metadata": {},
   "outputs": [
    {
     "name": "stdout",
     "output_type": "stream",
     "text": [
      "Mándame el siguiente material que estoy listo: 5 kilos compota de melocotón, 3 kilos fresas, 7 kilos manzanas, 9 kilos albaricoques, 100 kilos azucar. Y Date prisa que me tienes hasta las narices con tanta segurida, que parece que cocinamos otra cosa en lugar he hacer yogures!!!\n"
     ]
    }
   ],
   "source": [
    "mensaje=deco_afin([734461933241186472969159L, 3479061447L, 279048452422856320052380615L, 1033071336087238343541703L, 974677623751L, 57111833218663367L, 15623803945216525255L, 82854855L, 60467473986372551L, 3668513721263902442439L, 3444589511L, 17334517580104451101254374802375L, 82592711L, 60467473986372551L, 3779622034147530130375L, 83116999L, 60467473986372551L, 264466043694263907817243591L, 83379143L, 60467473986372551L, 1011702180066720474247122611588711367L, 422599607239L, 60467473986372551L, 3596316486929890821063L, 87573447L, 150370786493383L, 63301989324833735L, 974677623751L, 3746579399L, 16776694611630113735L, 58761092235019207L, 931058697159L, 4072327277505474741191L, 854218392519L, 65516448726401991L, 279010673496068622020133831L, 974677623751L, 16195758769623286727L, 974677623751L, 240419345292453720535876551L, 245091927606215L, 218660732421063L, 3479323591L, 61056768799294407L, 3578807239L, 58760954294977479L, 75164731049239781261403767751L],131072,75908039,553612260071847767819357303824754235825777)\n",
    "print(mensaje)"
   ]
  },
  {
   "cell_type": "markdown",
   "metadata": {},
   "source": [
    "No existen pruebas incriminatorias ya que sólo se dedicaban a hacer yogures."
   ]
  }
 ],
 "metadata": {
  "kernelspec": {
   "display_name": "Python 3",
   "language": "python",
   "name": "python3"
  },
  "language_info": {
   "codemirror_mode": {
    "name": "ipython",
    "version": 3
   },
   "file_extension": ".py",
   "mimetype": "text/x-python",
   "name": "python",
   "nbconvert_exporter": "python",
   "pygments_lexer": "ipython3",
   "version": "3.5.2"
  }
 },
 "nbformat": 4,
 "nbformat_minor": 1
}
