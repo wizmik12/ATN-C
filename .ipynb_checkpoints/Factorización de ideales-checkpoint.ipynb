{
 "cells": [
  {
   "cell_type": "code",
   "execution_count": 1,
   "metadata": {},
   "outputs": [],
   "source": [
    "from sympy import *"
   ]
  },
  {
   "cell_type": "code",
   "execution_count": 2,
   "metadata": {},
   "outputs": [
    {
     "ename": "NameError",
     "evalue": "name 'LR' is not defined",
     "output_type": "error",
     "traceback": [
      "\u001b[1;31m---------------------------------------------------------------------------\u001b[0m",
      "\u001b[1;31mNameError\u001b[0m                                 Traceback (most recent call last)",
      "\u001b[1;32m<ipython-input-2-6f5dd7defc88>\u001b[0m in \u001b[0;36m<module>\u001b[1;34m()\u001b[0m\n\u001b[1;32m----> 1\u001b[1;33m \u001b[0mLR\u001b[0m\u001b[1;33m(\u001b[0m\u001b[1;33m[\u001b[0m\u001b[1;33m[\u001b[0m\u001b[1;36m4\u001b[0m\u001b[1;33m,\u001b[0m\u001b[1;36m1\u001b[0m\u001b[1;33m]\u001b[0m\u001b[1;33m,\u001b[0m\u001b[1;33m[\u001b[0m\u001b[1;36m6\u001b[0m\u001b[1;33m,\u001b[0m\u001b[1;36m1\u001b[0m\u001b[1;33m]\u001b[0m\u001b[1;33m,\u001b[0m\u001b[1;33m[\u001b[0m\u001b[1;36m2\u001b[0m\u001b[1;33m,\u001b[0m\u001b[1;36m3\u001b[0m\u001b[1;33m]\u001b[0m\u001b[1;33m,\u001b[0m\u001b[1;33m[\u001b[0m\u001b[1;36m4\u001b[0m\u001b[1;33m,\u001b[0m\u001b[1;36m6\u001b[0m\u001b[1;33m]\u001b[0m\u001b[1;33m]\u001b[0m\u001b[1;33m)\u001b[0m\u001b[1;33m\u001b[0m\u001b[0m\n\u001b[0m",
      "\u001b[1;31mNameError\u001b[0m: name 'LR' is not defined"
     ]
    }
   ],
   "source": [
    "LR([[4,1],[6,1],[2,3],[4,6]])"
   ]
  },
  {
   "cell_type": "code",
   "execution_count": null,
   "metadata": {},
   "outputs": [],
   "source": [
    "def cero(matriz):\n",
    "    #Función para una matriz de 2xn, intercambiar columnas de tal manera que en la primera fila\n",
    "    #los ceros queden al final\n",
    "    \n",
    "    #Comprobamos que sea 2xn\n",
    "    for i in range(len(matriz)):\n",
    "        if len(matriz[i])!=2:\n",
    "            print \"Mete una matriz de dimensiones válidas\"\n",
    "            return false\n",
    "    #Esta función lo que hace es recorrer la primera fila de la matriz y en cuanto detecta un cero,\n",
    "    #La recorre desde atrás hasta detectar el primer lugar donde no hay un cero para intercambiar las columnas\n",
    "    n=len(matriz)\n",
    "    for i in range (0,n):\n",
    "        if matriz[i][0]==0:\n",
    "            for j in range(n-1,i,-1):\n",
    "                if matriz[j][0]!=0:\n",
    "                    aux=matriz[j]\n",
    "                    matriz[j]=matriz[i]\n",
    "                    matriz[i]=aux\n",
    "            \n",
    "    return matriz\n",
    "            "
   ]
  },
  {
   "cell_type": "code",
   "execution_count": null,
   "metadata": {
    "collapsed": true
   },
   "outputs": [],
   "source": [
    "def cero2(lista):\n",
    "    #Función para desplazar todos los ceros al final\n",
    "    n=len(lista)\n",
    "    #Recorre la lista y cuando detecta un 0, la recorre desde atrás hasta ver el primer lugar donde no hay un cero,\n",
    "    #para intercambiar los elementos\n",
    "    for i in range (0,n):\n",
    "        if lista[i]==0:\n",
    "            for j in range(n-1,i,-1):\n",
    "                if lista[j]!=0:\n",
    "                    aux=lista[j]\n",
    "                    lista[j]=lista[i]\n",
    "                    lista[i]=aux\n",
    "            \n",
    "    return lista"
   ]
  },
  {
   "cell_type": "code",
   "execution_count": null,
   "metadata": {},
   "outputs": [],
   "source": [
    "cero([[-1, 12], [0, 3], [4, -26], [0, 1]])"
   ]
  },
  {
   "cell_type": "code",
   "execution_count": null,
   "metadata": {},
   "outputs": [],
   "source": [
    "range(4,1,-1)"
   ]
  },
  {
   "cell_type": "code",
   "execution_count": null,
   "metadata": {},
   "outputs": [],
   "source": [
    "7/-3"
   ]
  },
  {
   "cell_type": "code",
   "execution_count": null,
   "metadata": {
    "collapsed": true
   },
   "outputs": [],
   "source": [
    "def LR(matriz):\n",
    "    #Función para \"escalonar\" una matriz 2xn con elementos en un anillo \n",
    "    \n",
    "    #Comprobamos que sea 2xn\n",
    "    for i in range(len(matriz)):\n",
    "        if len(matriz[i])!=2:\n",
    "            print \"Mete una matriz de dimensiones válidas\"\n",
    "            return false\n",
    "    \n",
    "    #Primera parte: hacemos ceros en la primera fila\n",
    "    while(matriz[1][0]!=0 or matriz[2][0]!=0 or matriz[3][0]!=0):\n",
    "        #Echamos todos los ceros de la primera fila al final\n",
    "        matriz=cero(matriz)\n",
    "        #Ponemos la columna que tiene el mínimo de la primera fila en primera posición\n",
    "        minimo=abs(matriz[0][0])\n",
    "        min_num=0\n",
    "        for i in range(0,len(matriz)):\n",
    "            if abs(matriz[i][0])<minimo and matriz[i][0]!=0:\n",
    "                minimo=abs(matriz[i][0])\n",
    "                min_num=i                \n",
    "        aux=matriz[0]\n",
    "        matriz[0]=matriz[min_num]\n",
    "        matriz[min_num]=aux\n",
    "        #Calculamos el cociente para empezar a restar números y hacer ceros\n",
    "        cociente=matriz[1][0]/matriz[0][0]\n",
    "        #Hacemos las restas para hacer ceros en los lugares que no hay ceros, en ambas filas    \n",
    "        for i in range(1,len(matriz)):\n",
    "             if matriz[i][0]!=0:\n",
    "                matriz[i][1]=matriz[i][1]-matriz[0][1]*cociente\n",
    "        for i in range(1,len(matriz)):\n",
    "            if matriz[i][0]!=0:\n",
    "                matriz[i][0]=matriz[i][0]-matriz[0][0]*cociente\n",
    "    \n",
    "    #Nos quedamos con la primera columna\n",
    "    [a,b]=matriz[0]\n",
    "    #Nos quedamos con los c's\n",
    "    matriz2=[]\n",
    "    matriz2.append(matriz[1][1])\n",
    "    matriz2.append(matriz[2][1])\n",
    "    matriz2.append(matriz[3][1])\n",
    "    #Segunda parte: Hacer ceros en la segunda fila (nos hemos quedado con la segunda fila como si fuera una lista)\n",
    "    while(matriz2[1]!=0 or matriz2[2]!=0):\n",
    "        #Echamos los ceros al final\n",
    "        matriz2=cero2(matriz2)\n",
    "        #Ponemos el menor al principio\n",
    "        minimo=abs(matriz2[0])\n",
    "        min_num=0\n",
    "        for i in range(0,len(matriz2)):\n",
    "            if abs(matriz2[i])<minimo and matriz2[i]!=0:\n",
    "                minimo=abs(matriz2[i])\n",
    "                min_num=i\n",
    "        aux=matriz2[0]\n",
    "        matriz2[0]=matriz2[min_num]\n",
    "        matriz2[min_num]=aux\n",
    "        #Dividimos para ir haciendo ceros\n",
    "        cociente=matriz2[1]/matriz2[0]\n",
    "        for i in range(1,len(matriz2)):\n",
    "             if matriz2[i]!=0:\n",
    "                matriz2[i]=matriz2[i]-matriz2[0]*cociente\n",
    "    #Devolvemos el a, b y c\n",
    "    return [a,b,matriz2[0]]"
   ]
  },
  {
   "cell_type": "code",
   "execution_count": 6,
   "metadata": {},
   "outputs": [
    {
     "ename": "SyntaxError",
     "evalue": "unexpected EOF while parsing (<ipython-input-6-70b4396c1d0e>, line 1)",
     "output_type": "error",
     "traceback": [
      "\u001b[1;36m  File \u001b[1;32m\"<ipython-input-6-70b4396c1d0e>\"\u001b[1;36m, line \u001b[1;32m1\u001b[0m\n\u001b[1;33m    def Relatores(I,d):\u001b[0m\n\u001b[1;37m                       ^\u001b[0m\n\u001b[1;31mSyntaxError\u001b[0m\u001b[1;31m:\u001b[0m unexpected EOF while parsing\n"
     ]
    }
   ],
   "source": [
    "def Relatores_ideal(I,d):\n",
    "    if d%4==1:\n",
    "        e=Rational(1,2)+sqrt(d)*Rational(1,2)\n",
    "    else:\n",
    "        e=sqrt(d)\n",
    "    Relatores=[]\n",
    "    for i in range(0,len(I)):\n",
    "        x=I[i]\n",
    "        Relatores.append(ab2(x,d))\n",
    "        x=expand(simplify(e*I[i]))\n",
    "        Relatores.append(ab2(x,d))\n",
    "    return Relatores"
   ]
  },
  {
   "cell_type": "code",
   "execution_count": 4,
   "metadata": {
    "collapsed": true
   },
   "outputs": [],
   "source": [
    "def norma_ideal(I,d):\n",
    "    Relatores=[]\n",
    "    for i in range(0,len(I)):\n",
    "        Relatores.append(ab2(I[i],d))\n",
    "    a=LR(Relatores)\n",
    "    return a[0]*a[2]"
   ]
  },
  {
   "cell_type": "code",
   "execution_count": 5,
   "metadata": {
    "collapsed": true
   },
   "outputs": [],
   "source": [
    "def norma_id(I,d):\n",
    "    Relatores=Relatores_ideal(I,d)\n",
    "    a=LR(Relatores)\n",
    "    return a[0]*a[2]"
   ]
  },
  {
   "cell_type": "code",
   "execution_count": 7,
   "metadata": {
    "collapsed": true
   },
   "outputs": [],
   "source": [
    "def pertenece(gamma,I,d):\n",
    "    Relatores=Relatores_ideal(I,d)\n",
    "    coord_gamma=ab2(gamma,d)\n",
    "    a=LR(Relatores)\n",
    "    x_1=Rational(coord_gamma[0],a[0])\n",
    "    x_2=Rational(coord_gamma[1]-expand(simplify(a[1]*x_1)),a[2])\n",
    "    return ask(Q.integer(x_1))and ask(Q.integer(x_2))"
   ]
  },
  {
   "cell_type": "code",
   "execution_count": null,
   "metadata": {
    "collapsed": true
   },
   "outputs": [],
   "source": [
    "def contenido(J,I,d):\n",
    "    "
   ]
  }
 ],
 "metadata": {
  "kernelspec": {
   "display_name": "Python 3",
   "language": "python",
   "name": "python3"
  },
  "language_info": {
   "codemirror_mode": {
    "name": "ipython",
    "version": 3
   },
   "file_extension": ".py",
   "mimetype": "text/x-python",
   "name": "python",
   "nbconvert_exporter": "python",
   "pygments_lexer": "ipython3",
   "version": "3.5.2"
  }
 },
 "nbformat": 4,
 "nbformat_minor": 1
}
