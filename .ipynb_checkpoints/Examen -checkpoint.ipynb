{
 "cells": [
  {
   "cell_type": "markdown",
   "metadata": {},
   "source": [
    "# Examen TANC 2015/16 para 9-10"
   ]
  },
  {
   "cell_type": "markdown",
   "metadata": {},
   "source": [
    "Sea \n",
    "\n",
    "- $d=-309$\n",
    "- $\\mathbb K=\\mathbb Q (\\sqrt d)$\n",
    "- $\\mathbb O$ el anillo de enteros de $\\mathbb K$\n",
    "- $cta$ la cota de Minkowski\n",
    "- $\\mathbb H$ el grupo de clase de $\\mathbb O$."
   ]
  },
  {
   "cell_type": "code",
   "execution_count": 2,
   "metadata": {
    "collapsed": true
   },
   "outputs": [],
   "source": [
    "from TANMLP import *"
   ]
  },
  {
   "cell_type": "markdown",
   "metadata": {},
   "source": [
    "## Ejercicio 1.-"
   ]
  },
  {
   "cell_type": "markdown",
   "metadata": {},
   "source": [
    "Calcula el grupo de clase $\\mathbb H$ y el número de clase $h$ de $\\mathbb O$. Expresa $\\mathbb H$ como un producto de grupos cíclicos.\n",
    "\n",
    "[Para comprobar si vas bien entra en este enlace](http://www.ugr.es/~bullejos/numeros/nclase.html)"
   ]
  },
  {
   "cell_type": "code",
   "execution_count": 8,
   "metadata": {},
   "outputs": [],
   "source": [
    "G=generadores_grupo_clase(-309)"
   ]
  },
  {
   "cell_type": "code",
   "execution_count": 19,
   "metadata": {},
   "outputs": [
    {
     "name": "stdout",
     "output_type": "stream",
     "text": [
      "[[[2, -1 + sqrt(309)*I], 2], [[3, sqrt(309)*I], 2], [[5, -1 + sqrt(309)*I], 6], [[13, -4 + sqrt(309)*I], 3], [[23, -6 + sqrt(309)*I], 6]]\n"
     ]
    }
   ],
   "source": [
    "print G"
   ]
  },
  {
   "cell_type": "code",
   "execution_count": 29,
   "metadata": {},
   "outputs": [
    {
     "name": "stdout",
     "output_type": "stream",
     "text": [
      "1 False\n",
      "2 False\n",
      "3 False\n",
      "4 False\n",
      "5 False\n"
     ]
    }
   ],
   "source": [
    "#P1 no está contenido en P2\n",
    "for i in range(1,6):\n",
    "    print i,esprincipal(producto([exp(G[1][0],1,-309),exp(G[2][0],i,-309)],-309),-309)"
   ]
  },
  {
   "cell_type": "code",
   "execution_count": 42,
   "metadata": {},
   "outputs": [
    {
     "name": "stdout",
     "output_type": "stream",
     "text": [
      "1 False\n",
      "2 False\n",
      "3 False\n",
      "4 False\n",
      "5 False\n"
     ]
    }
   ],
   "source": [
    "#P1 no está contenido en P4\n",
    "for i in range(1,6):\n",
    "    print i,esprincipal(producto([exp(G[1][0],1,-309),exp(G[4][0],i,-309)],-309),-309)"
   ]
  },
  {
   "cell_type": "code",
   "execution_count": 35,
   "metadata": {},
   "outputs": [
    {
     "data": {
      "text/plain": [
       "True"
      ]
     },
     "execution_count": 35,
     "metadata": {},
     "output_type": "execute_result"
    },
    {
     "name": "stdout",
     "output_type": "stream",
     "text": [
      "\n"
     ]
    }
   ],
   "source": [
    "#P2 y P4 no generan el mismo grupo cíclico de orden 6\n",
    "for i in [1,5]:\n",
    "    for j in [1,5]:\n",
    "        print esprincipal(producto([exp(G[2][0],i,-309),exp(G[4][0],j,-309)],-309),-309)"
   ]
  },
  {
   "cell_type": "code",
   "execution_count": 33,
   "metadata": {},
   "outputs": [
    {
     "data": {
      "text/plain": [
       "True"
      ]
     },
     "execution_count": 33,
     "metadata": {},
     "output_type": "execute_result"
    },
    {
     "name": "stdout",
     "output_type": "stream",
     "text": [
      "\n"
     ]
    }
   ],
   "source": [
    "#P3 está contenido en el grupo cíclico generado por P2\n",
    "esprincipal(producto([exp(G[3][0],2,-309),exp(G[2][0],2,-309)],-309),-309)"
   ]
  },
  {
   "cell_type": "code",
   "execution_count": 28,
   "metadata": {},
   "outputs": [
    {
     "data": {
      "text/plain": [
       "True"
      ]
     },
     "execution_count": 28,
     "metadata": {},
     "output_type": "execute_result"
    }
   ],
   "source": [
    "#P0 está contenido en el grupo cíclico generado por P4\n",
    "esprincipal(producto([exp(G[0][0],1,-309),exp(G[4][0],3,-309)],-309),-309)"
   ]
  },
  {
   "cell_type": "code",
   "execution_count": 44,
   "metadata": {},
   "outputs": [
    {
     "data": {
      "text/plain": [
       "True"
      ]
     },
     "execution_count": 44,
     "metadata": {},
     "output_type": "execute_result"
    },
    {
     "name": "stdout",
     "output_type": "stream",
     "text": [
      "\n"
     ]
    }
   ],
   "source": [
    "#P2 por P1 genera el grupo cíclico de orden 6 que genera P4\n",
    "esprincipal(producto([exp(G[2][0],1,-309),exp(G[4][0],1,-309),G[1][0]],-309),-309)"
   ]
  },
  {
   "cell_type": "markdown",
   "metadata": {},
   "source": [
    "El grupo de clase es $\\mathcal{C}_{6}x\\mathcal{C}_{2}$. \n",
    "\n",
    "$\\mathcal{C}_{6}$ está generado por $\\mathfrak{P}_{23}$ y $\\mathcal{C}_{2}$ está generado por $\\mathfrak{P}_{3}$"
   ]
  },
  {
   "cell_type": "markdown",
   "metadata": {},
   "source": [
    "## Ejercicio 2.-"
   ]
  },
  {
   "cell_type": "markdown",
   "metadata": {},
   "source": [
    "Para cada uno de los siguientes casos, encuentra un primo de $\\mathbb Z$ que:\n",
    "- Siga siendo primo en $\\mathbb O$.\n",
    "- Sea irreducible pero no primo en $\\mathbb O$.\n",
    "- Sea reducible en $\\mathbb O$.\n",
    "\n",
    "Razona cada respuesta."
   ]
  },
  {
   "cell_type": "markdown",
   "metadata": {},
   "source": [
    "Sea irreducible pero no primo en $\\mathbb O$."
   ]
  },
  {
   "cell_type": "code",
   "execution_count": 115,
   "metadata": {},
   "outputs": [
    {
     "name": "stdout",
     "output_type": "stream",
     "text": [
      "False\n",
      "True\n",
      "False\n",
      "False\n",
      "True\n"
     ]
    }
   ],
   "source": [
    "print es_primo_id([53],-309)\n",
    "print es_irreducible2(53,-309)\n",
    "print divide2(53,50-sqrt(-309),-309)\n",
    "print divide2(53,50+sqrt(-309),-309)\n",
    "print divide2(53,simplify((50-sqrt(-309))*(50+sqrt(-309))),-309)"
   ]
  },
  {
   "cell_type": "markdown",
   "metadata": {},
   "source": [
    "Primo de $\\mathbb{Z}$ que sigue siendo primo en $\\mathbb{O}$: 2"
   ]
  },
  {
   "cell_type": "code",
   "execution_count": 111,
   "metadata": {},
   "outputs": [
    {
     "name": "stdout",
     "output_type": "stream",
     "text": [
      "[[7]]\n",
      "True\n"
     ]
    }
   ],
   "source": [
    "print divisores(7,-309)\n",
    "print es_primo_id([7],-309)"
   ]
  },
  {
   "cell_type": "markdown",
   "metadata": {},
   "source": [
    "7 es un primo de $\\mathbb{Z}$ que sigue siendo un primo de $\\mathbb{O}$ ya que el ideal que genera es principal"
   ]
  },
  {
   "cell_type": "markdown",
   "metadata": {},
   "source": [
    "Primo de $\\mathbb{Z}$ que es reducible en $\\mathbb{O}$: 313"
   ]
  },
  {
   "cell_type": "code",
   "execution_count": 18,
   "metadata": {},
   "outputs": [
    {
     "name": "stdout",
     "output_type": "stream",
     "text": [
      "True 313 True True\n"
     ]
    }
   ],
   "source": [
    "print isprime(313),simplify((2 + sqrt(-309))*(-2 + sqrt(-309))*-1), es_irreducible2(2 + sqrt(-309),-309),es_irreducible2(-2 + sqrt(-309),-309)"
   ]
  },
  {
   "cell_type": "markdown",
   "metadata": {},
   "source": [
    "## Ejercicio 3.-"
   ]
  },
  {
   "cell_type": "markdown",
   "metadata": {},
   "source": [
    "Recuerda que el grupo de clase está definido como el cociente  $\\mathbb H=\\frac{Frac(\\mathbb O)}{Princ(\\mathbb O)}$, donde $Princ(\\mathbb O)$ son los ideales fraccionarios principales. Recuerda que también podemos calcular el grupo de clase como el cociente $\\mathbb H=\\frac{Ideales(\\mathbb O)}{\\equiv}$, donde \n",
    "\n",
    "$$\n",
    "I\\equiv J \\mbox{ si y solo si existen } \\alpha,\\beta\\in \\mathbb O \\mbox{ tal que } \\alpha I=\\beta J.\n",
    "$$\n",
    "\n",
    "- Se puede deducir fácilmente que la clases de un ideal $[I]$ en $\\mathbb H$ es trivial si y solo sí el ideal es principal. \n",
    "\n",
    "- Pero si $I$ y $J$ son dos ideales y $J$ no divide a $I$, $I*J^{-1}$ no es un ideal (es un ideal fraccionario) por tanto no podemos decir que $[I]=[J]$ si y solo si $I*J^{-1}$ es un ideal principal, lo que tenemos es que $[I]=[J]$ si y solo si $I*J^{-1}$ es un ideal **fraccionario principal**.\n",
    "\n",
    "Recuerda también que tenemos un criterio para saber si un ideal es principal, pero que **''no tenemos un criterio para saber si un ideal fraccionario es principal''**.\n",
    "\n",
    "Si no tenemos un criterio para ver si un ideal fraccionario es principal ¿cómo podemos dar un algoritmo que compruebe si las clases de dos ideales son iguales?\n",
    "\n",
    "El ejercicio 4 consiste en que des un algoritmo para comprobar si las clases de dos ideales son iguales, en este algoritmo no debes usar inversos y tampoco debes buscar $\\alpha$ y $\\beta$ tales que $\\alpha I=\\beta J$ ya que está búsqueda puede ser compleja.\n",
    "\n",
    "No te pido que implementes este algoritmo."
   ]
  },
  {
   "cell_type": "markdown",
   "metadata": {},
   "source": [
    "Para ver si $I*J^{-1}$ es principal vamos a ver si $I*J^{orden(J)-1}$ lo es. Ya que $1=[I]*[J^{-1}]=[I]*[J]^{-1}=[I*J^{orden(J)-1}$]"
   ]
  },
  {
   "cell_type": "markdown",
   "metadata": {},
   "source": [
    "## Ejercicio 4.-"
   ]
  },
  {
   "cell_type": "markdown",
   "metadata": {},
   "source": [
    "Consideras los ideales \n",
    "\n",
    "$$\n",
    "I_1=<3 + 1145247177*\\sqrt d, -6042757110*\\sqrt d>, \\qquad \n",
    "I_2=<-1 + 9950*\\sqrt d, -10447*\\sqrt d>,\n",
    "$$\n",
    "\n",
    "y el ideal fraccionario $M=I_1*I_2^{-1}$.\n",
    "\n",
    "- Asegúrate que $M$ no es un ideal. \n",
    "- Encuentra un ideal en la clase de $M$ en $\\mathbb H$.\n",
    "- Utiliza el algoritmo que has dado en el ejercicio 4 para expresar la clase de $M$ en $\\mathbb H$ como un producto de los generadores de $\\mathbb H$ que has elegido en el ejercicio 1."
   ]
  },
  {
   "cell_type": "markdown",
   "metadata": {},
   "source": [
    "M no es un ideal ya que I2 no divide a I1"
   ]
  },
  {
   "cell_type": "code",
   "execution_count": 88,
   "metadata": {},
   "outputs": [
    {
     "name": "stdout",
     "output_type": "stream",
     "text": [
      "False\n"
     ]
    }
   ],
   "source": [
    "print divide_id([-1 + 9950*sqrt(-309), -10447*sqrt(-309)],[3 + 1145247177*sqrt(-309), -6042757110*sqrt(-309)],-309)"
   ]
  },
  {
   "cell_type": "code",
   "execution_count": 89,
   "metadata": {},
   "outputs": [
    {
     "data": {
      "text/plain": [
       "10447"
      ]
     },
     "execution_count": 89,
     "metadata": {},
     "output_type": "execute_result"
    }
   ],
   "source": [
    "norma_id([-1 + 9950*sqrt(-309), -10447*sqrt(-309)],-309)"
   ]
  },
  {
   "cell_type": "code",
   "execution_count": 117,
   "metadata": {},
   "outputs": [
    {
     "data": {
      "text/plain": [
       "{(31, -30 + sqrt(309)*I): 1, (337, -238 + sqrt(309)*I): 1}"
      ]
     },
     "execution_count": 117,
     "metadata": {},
     "output_type": "execute_result"
    }
   ],
   "source": [
    "factoriza_id([-1 + 9950*sqrt(-309), -10447*sqrt(-309)],-309)"
   ]
  },
  {
   "cell_type": "code",
   "execution_count": 120,
   "metadata": {},
   "outputs": [
    {
     "data": {
      "text/plain": [
       "6"
      ]
     },
     "execution_count": 120,
     "metadata": {},
     "output_type": "execute_result"
    }
   ],
   "source": [
    "orden([31, -30 + sqrt(309)*I],-309)"
   ]
  },
  {
   "cell_type": "code",
   "execution_count": 121,
   "metadata": {},
   "outputs": [
    {
     "data": {
      "text/plain": [
       "3"
      ]
     },
     "execution_count": 121,
     "metadata": {},
     "output_type": "execute_result"
    }
   ],
   "source": [
    "orden([337, -238 + sqrt(309)*I],-309)"
   ]
  },
  {
   "cell_type": "code",
   "execution_count": 126,
   "metadata": {},
   "outputs": [
    {
     "data": {
      "text/plain": [
       "True"
      ]
     },
     "execution_count": 126,
     "metadata": {},
     "output_type": "execute_result"
    }
   ],
   "source": [
    "esprincipal(producto([exp([337, -238 + sqrt(309)*I],2,-309),exp(G[4][0],4,-309)],-309),-309)"
   ]
  },
  {
   "cell_type": "code",
   "execution_count": null,
   "metadata": {},
   "outputs": [],
   "source": [
    "esprincipal(producto([exp([31, -30 + sqrt(309)*I],5,-309),exp(G[4][0],5,-309),exp(G[1][0],5,-309)],-309),-309)"
   ]
  },
  {
   "cell_type": "code",
   "execution_count": null,
   "metadata": {
    "collapsed": true
   },
   "outputs": [],
   "source": [
    "exp(G[4][0],1,-309)"
   ]
  },
  {
   "cell_type": "code",
   "execution_count": 91,
   "metadata": {},
   "outputs": [
    {
     "data": {
      "text/plain": [
       "{(2, -1 + sqrt(309)*I): 1,\n",
       " (3, sqrt(309)*I): 2,\n",
       " (5, -1 + sqrt(309)*I): 1,\n",
       " (13, -4 + sqrt(309)*I): 1,\n",
       " (23, -17 + sqrt(309)*I): 1,\n",
       " (337, -99 + sqrt(309)*I): 1,\n",
       " (1999, -965 + sqrt(309)*I): 1}"
      ]
     },
     "execution_count": 91,
     "metadata": {},
     "output_type": "execute_result"
    }
   ],
   "source": [
    "factoriza_id([3 + 1145247177*sqrt(-309), -6042757110*sqrt(-309)],-309)"
   ]
  },
  {
   "cell_type": "code",
   "execution_count": 92,
   "metadata": {
    "collapsed": true
   },
   "outputs": [],
   "source": [
    "a=list({(2, -1 + sqrt(309)*I): 1,\n",
    " (3, sqrt(309)*I): 2,\n",
    " (5, -1 + sqrt(309)*I): 1,\n",
    " (13, -4 + sqrt(309)*I): 1,\n",
    " (23, -17 + sqrt(309)*I): 1,\n",
    " (337, -99 + sqrt(309)*I): 1,\n",
    " (1999, -965 + sqrt(309)*I): 1})"
   ]
  },
  {
   "cell_type": "markdown",
   "metadata": {},
   "source": [
    "[Si estás muy desesperado entra en este enlace](http://www.ugr.es/~bullejos/numeros/Ayuda4.html)"
   ]
  },
  {
   "cell_type": "markdown",
   "metadata": {},
   "source": [
    "## Ejercicio 5.-"
   ]
  },
  {
   "cell_type": "markdown",
   "metadata": {},
   "source": [
    "Encuentra un elemento de $\\mathbb O$ con dos factorizaciones en irreducibles distintas."
   ]
  },
  {
   "cell_type": "markdown",
   "metadata": {},
   "source": [
    "305"
   ]
  },
  {
   "cell_type": "code",
   "execution_count": 116,
   "metadata": {},
   "outputs": [
    {
     "name": "stdout",
     "output_type": "stream",
     "text": [
      "2809\n",
      "2809\n"
     ]
    }
   ],
   "source": [
    "print simplify((50-sqrt(-309))*(50+sqrt(-309)))\n",
    "print 53*53"
   ]
  },
  {
   "cell_type": "code",
   "execution_count": 86,
   "metadata": {},
   "outputs": [
    {
     "name": "stdout",
     "output_type": "stream",
     "text": [
      "53   True\n",
      "50 - sqrt(309)*I   True\n",
      "50 + sqrt(309)*I   True\n"
     ]
    }
   ],
   "source": [
    "#Vemos que la descomposición es en irreducibles\n",
    "print 53, ' ',es_irreducible2(53,-309)\n",
    "print 50-sqrt(-309), ' ',es_irreducible2(50-sqrt(-309),-309)\n",
    "print 50+sqrt(-309), ' ',es_irreducible2(50+sqrt(-309),-309)"
   ]
  },
  {
   "cell_type": "code",
   "execution_count": 70,
   "metadata": {},
   "outputs": [
    {
     "name": "stdout",
     "output_type": "stream",
     "text": [
      " 1   False\n",
      "2   True\n",
      "3   False\n",
      "4   False\n",
      "5   False\n",
      "6   False\n",
      "7   False\n",
      "8   True\n",
      "9   False\n",
      "10   True\n",
      "11   False\n",
      "12   False\n",
      "13   False\n",
      "14   False\n",
      "15   False\n",
      "16   False\n",
      "17   False\n",
      "18   False\n",
      "19   False\n",
      "20   True\n",
      "21   False\n",
      "22   False\n",
      "23   False\n",
      "24   False\n",
      "25   False\n",
      "26   False\n",
      "27   False\n",
      "28   True\n",
      "29   False\n",
      "30   False\n",
      "31   False\n",
      "32   False\n",
      "33   False\n",
      "34   False\n",
      "35   False\n",
      "36   False\n",
      "37   False\n",
      "38   True\n",
      "39   False\n",
      "40   False\n",
      "41   False\n",
      "42   False\n",
      "43   False\n",
      "44   False\n",
      "45   False\n",
      "46   False\n",
      "47   False\n",
      "48   False\n",
      "49   False\n",
      "50   True\n",
      "51   False\n",
      "52   False\n",
      "53   False\n",
      "54   False\n",
      "55   False\n",
      "56   False\n",
      "57   False\n",
      "58   True\n",
      "59   False\n",
      "60   False\n",
      "61   False\n",
      "62   True\n",
      "63   False\n",
      "64   False\n",
      "65   False\n",
      "66   False\n",
      "67   False\n",
      "68   True\n",
      "69   False\n",
      "70   True\n",
      "71   False\n",
      "72   False\n",
      "73   False\n",
      "74   False\n",
      "75   False\n",
      "76   False\n",
      "77   False\n",
      "78   False\n",
      "79   False\n",
      "80   True\n",
      "81   False\n",
      "82   False\n",
      "83   False\n",
      "84   False\n",
      "85   False\n",
      "86   False\n",
      "87   False\n",
      "88   True\n",
      "89   False\n",
      "90   False\n",
      "91   False\n",
      "92   False\n",
      "93   False\n",
      "94   False\n",
      "95   False\n",
      "96   False\n",
      "97   False\n",
      "98   False\n",
      "99   False\n"
     ]
    }
   ],
   "source": [
    "#Bucle for para buscar por fuerza bruta como encontrar el número\n",
    "for i in range(1,100):\n",
    "    print i, ' ',es_irreducible2(i-sqrt(-309),-309)"
   ]
  },
  {
   "cell_type": "markdown",
   "metadata": {},
   "source": [
    "[Si estás mucho más desesperado que antes entra en este enlace](http://www.ugr.es/~bullejos/numeros/Ayuda5.html)"
   ]
  }
 ],
 "metadata": {
  "kernelspec": {
   "display_name": "Python 3",
   "language": "python",
   "name": "python3"
  },
  "language_info": {
   "codemirror_mode": {
    "name": "ipython",
    "version": 3
   },
   "file_extension": ".py",
   "mimetype": "text/x-python",
   "name": "python",
   "nbconvert_exporter": "python",
   "pygments_lexer": "ipython3",
   "version": "3.5.2"
  }
 },
 "nbformat": 4,
 "nbformat_minor": 1
}
