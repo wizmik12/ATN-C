{
 "cells": [
  {
   "cell_type": "markdown",
   "metadata": {
    "collapsed": true
   },
   "source": [
    "En el examen nos dará un d y nosotros tendremos que calcular H(d) que será el grupo de clase y h(d) que será el número de clase. El número de clase será el orden del grupo de clase y el grupo de clase son clases de equivalencia. Una cosa importante a tener en cuenta es que si un ideal es principal significa que es la clase del 1, abajo pongo una función que lo calcula, para ver si un ideal es principal:\n",
    "\n",
    "1. Calculamos la norma del ideal\n",
    "\n",
    "2. Calculamos los elementos con la norma del ideal y con menos la norma del ideal\n",
    "\n",
    "3. Si uno de esos elementos pertenece al ideal entonces es principal, en otro caso no lo sería\n",
    "\n",
    "En http://mathworld.wolfram.com/ClassNumber.html vienen números de clases para ciertos d,\n",
    "ten en cuenta cuando están pensando en un d positivo y cuando negativo\n"
   ]
  },
  {
   "cell_type": "code",
   "execution_count": null,
   "metadata": {},
   "outputs": [],
   "source": [
    "d=-299"
   ]
  },
  {
   "cell_type": "code",
   "execution_count": null,
   "metadata": {},
   "outputs": [],
   "source": [
    "from TANMLP import *\n",
    "from sympy import *"
   ]
  },
  {
   "cell_type": "code",
   "execution_count": null,
   "metadata": {},
   "outputs": [],
   "source": [
    "#En función del d calculamos s y t que nos ayudarán a calcular la cota de Minkowski\n",
    "if d>0:\n",
    "    s=2\n",
    "    t=0\n",
    "else:\n",
    "    s=0\n",
    "    t=1"
   ]
  },
  {
   "cell_type": "code",
   "execution_count": null,
   "metadata": {},
   "outputs": [],
   "source": [
    "#Calculamos el discriminante y la constante de Minkowski, a partir de ellos obtenemos la cota de Minkowski\n",
    "if d%4==1:\n",
    "    discriminante=d\n",
    "else:\n",
    "    discriminante=4*d\n",
    "cteMink=((4.0/N(pi))**t)*0.5\n",
    "ctaMink=cteMink*1.0*sqrt(abs(discriminante*1.0))"
   ]
  },
  {
   "cell_type": "code",
   "execution_count": null,
   "metadata": {},
   "outputs": [],
   "source": [
    "#vemos cual es la cota, como es 11.008.. entonces significa que tenemos que hacer una lista\n",
    "#hasta el primo 11 que es el que nos indica la cota\n",
    "print ctaMink"
   ]
  },
  {
   "cell_type": "code",
   "execution_count": null,
   "metadata": {},
   "outputs": [],
   "source": [
    "#Entonces hacemos una lista con los primeros 11 primos\n",
    "L=[2,3,5,7,11]"
   ]
  },
  {
   "cell_type": "code",
   "execution_count": null,
   "metadata": {},
   "outputs": [],
   "source": [
    "#Calculamos SG1 que son los ideales primos asociado a cada primo\n",
    "SG1=[]\n",
    "for i in range(0,len(L)):\n",
    "    for j in range(0,len(divisores(L[i],d))):\n",
    "        SG1.append(divisores(L[i],d)[j])\n",
    "print SG1"
   ]
  },
  {
   "cell_type": "code",
   "execution_count": null,
   "metadata": {},
   "outputs": [],
   "source": [
    "#Función para ver si un ideal es principal\n",
    "def esprincipal(I,d):\n",
    "    n=norma_id(I,d)\n",
    "    l=connorma2(n,d)+connorma2(-n,d)\n",
    "    for i in range(0,len(l)):\n",
    "        if pertenece(l[i],I,d)==true:\n",
    "            return true\n",
    "    return false"
   ]
  },
  {
   "cell_type": "code",
   "execution_count": null,
   "metadata": {},
   "outputs": [],
   "source": [
    "#Construimos SG2 con los ideales que no son principales\n",
    "SG2=[]\n",
    "for i in range(0,len(SG1)):\n",
    "    if esprincipal(SG1[i],d)==false:\n",
    "        SG2.append(SG1[i])\n",
    "print SG2"
   ]
  },
  {
   "cell_type": "code",
   "execution_count": null,
   "metadata": {},
   "outputs": [],
   "source": [
    "#Nos quedamos con 1 de cada primo\n",
    "SG3=[[3,Rational(1,2)+Rational(1,2)*sqrt(-299)],[5,Rational(1,2)+Rational(1,2)*sqrt(-299)],[7,Rational(-3,2)+Rational(1,2)*sqrt(-299)],[11,Rational(-3,2)+Rational(1,2)*sqrt(-299)]]"
   ]
  },
  {
   "cell_type": "code",
   "execution_count": null,
   "metadata": {},
   "outputs": [],
   "source": [
    "#Hacemos productos y vemos cuando es principal que eso significa que es una unidad y\n",
    "#ese será el orden de los generadores del grupo\n",
    "esprincipal(producto([SG3[0],SG3[0],SG3[0],SG3[0]],d),d)"
   ]
  },
  {
   "cell_type": "code",
   "execution_count": null,
   "metadata": {},
   "outputs": [],
   "source": [
    "#En este caso los ordenes son 4,8,8,8 esto se hace haciendo productos consigo mismo\n",
    "#y viendo cuando es principal, puedes hacer una función que te lo compruebe o que \n",
    "#o que te eleve un ideal a un cierto número\n",
    "#Ahora tenemos que dejar volar la imaginación, para ver como están relacionados\n",
    "# los generadores hacemos productos para ver los relatores del grupo\n",
    "#En este caso es C8, está generado por un elemento de orden 8, te indico cuales son las relaciones\n",
    "#que he obtenido aquí abajo\n",
    "#Lo que hago es potencias dos a dos elevados a distintos exponentes, el exponente como \n",
    "#mucho puede ser el orden del generador, en el primer caso obtenemos que el elemento de orden 4\n",
    "#está contenido en el de orden 8, y en los otros casos como ambos tienen orden 8,\n",
    "#significa que ambos generan el mismo grupo\n",
    "#Esto es teoría de grupos pura y dura hay que repasarsela un poquillo."
   ]
  },
  {
   "cell_type": "markdown",
   "metadata": {},
   "source": [
    "De aquí obtenemos que $\\mathfrak{P}_{3}*\\mathfrak{P}_{5}^{2}=1$. Lo cual implica que $\\mathfrak{P}_{3}\n",
    "\\subset <\\mathfrak{P}_{5}>.$"
   ]
  },
  {
   "cell_type": "markdown",
   "metadata": {},
   "source": [
    "De aquí obtenemos que $\\mathfrak{P}_{5}*\\mathfrak{P}_{7}^{5}=1$. Esto nos dice que generan el mismo grupo cíclico de orden 8."
   ]
  },
  {
   "cell_type": "markdown",
   "metadata": {},
   "source": [
    "De aquí obtenemos que $\\mathfrak{P}_{5}*\\mathfrak{P}_{11}=1.$ Esto nos dice que generan el mismo grupo cíclico de orden 8."
   ]
  },
  {
   "cell_type": "markdown",
   "metadata": {},
   "source": [
    "Nos queda el grupo como $<\\mathfrak{P}_{5}>\\equiv C_{8}.$ Y el número de clase es 8 que es el orden del grupo."
   ]
  },
  {
   "cell_type": "code",
   "execution_count": null,
   "metadata": {},
   "outputs": [],
   "source": [
    "#El grupo de clase es C8 y el numero de clase es 8 que es el tamaño del grupo."
   ]
  },
  {
   "cell_type": "code",
   "execution_count": null,
   "metadata": {},
   "outputs": [],
   "source": [
    "#Otro ejemplo sería d=-30, prueba a hacerlo tú, sale C2xC2, te salen tres generadores de orden 2,\n",
    "#ves que ninguno está contenido en el grupo cíclico del otro y al final ves que el producto\n",
    "#de los tres es igual a 1, por lo que el producto de dos de ellos es igual al tercero\n",
    "#Es decir tendríamos C2xC2={1,a,b,ab}, con a y b de orden 2"
   ]
  }
 ],
 "metadata": {
  "kernelspec": {
   "display_name": "Python 3",
   "language": "python",
   "name": "python3"
  },
  "language_info": {
   "codemirror_mode": {
    "name": "ipython",
    "version": 3
   },
   "file_extension": ".py",
   "mimetype": "text/x-python",
   "name": "python",
   "nbconvert_exporter": "python",
   "pygments_lexer": "ipython3",
   "version": "3.5.2"
  }
 },
 "nbformat": 4,
 "nbformat_minor": 1
}
